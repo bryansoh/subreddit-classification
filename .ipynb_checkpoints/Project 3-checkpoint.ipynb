{
 "cells": [
  {
   "cell_type": "code",
   "execution_count": 1,
   "id": "8cfaf75a",
   "metadata": {},
   "outputs": [],
   "source": [
    "import requests\n",
    "import pandas as pd\n",
    "import numpy as np\n",
    "import time\n",
    "import nltk\n",
    "import re\n",
    "from nltk.stem import WordNetLemmatizer\n",
    "from nltk.tokenize import sent_tokenize, word_tokenize, RegexpTokenizer\n",
    "from nltk.stem.porter import PorterStemmer\n",
    "from nltk.corpus import stopwords\n",
    "from nltk.sentiment.vader import SentimentIntensityAnalyzer\n",
    "import matplotlib.pyplot as plt\n",
    "from sklearn.model_selection import train_test_split, GridSearchCV, cross_val_score, StratifiedKFold\n",
    "from sklearn.pipeline import Pipeline\n",
    "from sklearn.naive_bayes import MultinomialNB\n",
    "from sklearn.metrics import confusion_matrix, plot_confusion_matrix\n",
    "from sklearn.feature_extraction.text import CountVectorizer, TfidfVectorizer\n",
    "from sklearn.ensemble import RandomForestClassifier\n",
    "from sklearn.svm import LinearSVC, SVC\n",
    "from sklearn.linear_model import LogisticRegression"
   ]
  },
  {
   "cell_type": "code",
   "execution_count": 2,
   "id": "ddb46daf",
   "metadata": {},
   "outputs": [],
   "source": [
    "url = 'https://api.pushshift.io/reddit/search/submission'"
   ]
  },
  {
   "cell_type": "code",
   "execution_count": 3,
   "id": "0520dcd9",
   "metadata": {},
   "outputs": [],
   "source": [
    "params = {\n",
    "    'subreddit':'theonion',\n",
    "    'size': 100,\n",
    "    'before': 1640995200\n",
    "}"
   ]
  },
  {
   "cell_type": "code",
   "execution_count": 4,
   "id": "ebc333f4",
   "metadata": {},
   "outputs": [],
   "source": [
    "res = requests.get(url, params)"
   ]
  },
  {
   "cell_type": "code",
   "execution_count": 5,
   "id": "72ab16f9",
   "metadata": {},
   "outputs": [
    {
     "data": {
      "text/plain": [
       "200"
      ]
     },
     "execution_count": 5,
     "metadata": {},
     "output_type": "execute_result"
    }
   ],
   "source": [
    "res.status_code"
   ]
  },
  {
   "cell_type": "code",
   "execution_count": 6,
   "id": "ded3ee07",
   "metadata": {},
   "outputs": [],
   "source": [
    "data = res.json()"
   ]
  },
  {
   "cell_type": "code",
   "execution_count": 7,
   "id": "e5da65fb",
   "metadata": {},
   "outputs": [],
   "source": [
    "posts = data['data']"
   ]
  },
  {
   "cell_type": "code",
   "execution_count": 8,
   "id": "cc8e8794",
   "metadata": {},
   "outputs": [
    {
     "data": {
      "text/plain": [
       "100"
      ]
     },
     "execution_count": 8,
     "metadata": {},
     "output_type": "execute_result"
    }
   ],
   "source": [
    "len(posts)"
   ]
  },
  {
   "cell_type": "code",
   "execution_count": 9,
   "id": "4273bd57",
   "metadata": {},
   "outputs": [],
   "source": [
    "df = pd.DataFrame(posts)"
   ]
  },
  {
   "cell_type": "code",
   "execution_count": 10,
   "id": "7338bc09",
   "metadata": {},
   "outputs": [
    {
     "data": {
      "text/html": [
       "<div>\n",
       "<style scoped>\n",
       "    .dataframe tbody tr th:only-of-type {\n",
       "        vertical-align: middle;\n",
       "    }\n",
       "\n",
       "    .dataframe tbody tr th {\n",
       "        vertical-align: top;\n",
       "    }\n",
       "\n",
       "    .dataframe thead th {\n",
       "        text-align: right;\n",
       "    }\n",
       "</style>\n",
       "<table border=\"1\" class=\"dataframe\">\n",
       "  <thead>\n",
       "    <tr style=\"text-align: right;\">\n",
       "      <th></th>\n",
       "      <th>all_awardings</th>\n",
       "      <th>allow_live_comments</th>\n",
       "      <th>author</th>\n",
       "      <th>author_flair_css_class</th>\n",
       "      <th>author_flair_richtext</th>\n",
       "      <th>author_flair_text</th>\n",
       "      <th>author_flair_type</th>\n",
       "      <th>author_fullname</th>\n",
       "      <th>author_is_blocked</th>\n",
       "      <th>author_patreon_flair</th>\n",
       "      <th>...</th>\n",
       "      <th>url_overridden_by_dest</th>\n",
       "      <th>whitelist_status</th>\n",
       "      <th>wls</th>\n",
       "      <th>crosspost_parent</th>\n",
       "      <th>crosspost_parent_list</th>\n",
       "      <th>removed_by_category</th>\n",
       "      <th>media</th>\n",
       "      <th>media_embed</th>\n",
       "      <th>secure_media</th>\n",
       "      <th>secure_media_embed</th>\n",
       "    </tr>\n",
       "  </thead>\n",
       "  <tbody>\n",
       "    <tr>\n",
       "      <th>0</th>\n",
       "      <td>[]</td>\n",
       "      <td>False</td>\n",
       "      <td>mothershipq</td>\n",
       "      <td>None</td>\n",
       "      <td>[]</td>\n",
       "      <td>None</td>\n",
       "      <td>text</td>\n",
       "      <td>t2_4negm</td>\n",
       "      <td>False</td>\n",
       "      <td>False</td>\n",
       "      <td>...</td>\n",
       "      <td>https://www.theonion.com/surgeon-kind-of-pisse...</td>\n",
       "      <td>all_ads</td>\n",
       "      <td>6</td>\n",
       "      <td>NaN</td>\n",
       "      <td>NaN</td>\n",
       "      <td>NaN</td>\n",
       "      <td>NaN</td>\n",
       "      <td>NaN</td>\n",
       "      <td>NaN</td>\n",
       "      <td>NaN</td>\n",
       "    </tr>\n",
       "    <tr>\n",
       "      <th>1</th>\n",
       "      <td>[]</td>\n",
       "      <td>False</td>\n",
       "      <td>-ImYourHuckleberry-</td>\n",
       "      <td>None</td>\n",
       "      <td>[]</td>\n",
       "      <td>None</td>\n",
       "      <td>text</td>\n",
       "      <td>t2_g3p2c</td>\n",
       "      <td>False</td>\n",
       "      <td>False</td>\n",
       "      <td>...</td>\n",
       "      <td>https://www.theartnewspaper.com/2021/12/31/mcd...</td>\n",
       "      <td>all_ads</td>\n",
       "      <td>6</td>\n",
       "      <td>t3_rstp9v</td>\n",
       "      <td>[{'all_awardings': [{'award_sub_type': 'GLOBAL...</td>\n",
       "      <td>moderator</td>\n",
       "      <td>NaN</td>\n",
       "      <td>NaN</td>\n",
       "      <td>NaN</td>\n",
       "      <td>NaN</td>\n",
       "    </tr>\n",
       "    <tr>\n",
       "      <th>2</th>\n",
       "      <td>[]</td>\n",
       "      <td>False</td>\n",
       "      <td>dwaxe</td>\n",
       "      <td>None</td>\n",
       "      <td>[]</td>\n",
       "      <td>None</td>\n",
       "      <td>text</td>\n",
       "      <td>t2_3jamc</td>\n",
       "      <td>False</td>\n",
       "      <td>False</td>\n",
       "      <td>...</td>\n",
       "      <td>https://www.theonion.com/gwyneth-paltrow-touts...</td>\n",
       "      <td>all_ads</td>\n",
       "      <td>6</td>\n",
       "      <td>NaN</td>\n",
       "      <td>NaN</td>\n",
       "      <td>NaN</td>\n",
       "      <td>NaN</td>\n",
       "      <td>NaN</td>\n",
       "      <td>NaN</td>\n",
       "      <td>NaN</td>\n",
       "    </tr>\n",
       "    <tr>\n",
       "      <th>3</th>\n",
       "      <td>[]</td>\n",
       "      <td>False</td>\n",
       "      <td>dwaxe</td>\n",
       "      <td>None</td>\n",
       "      <td>[]</td>\n",
       "      <td>None</td>\n",
       "      <td>text</td>\n",
       "      <td>t2_3jamc</td>\n",
       "      <td>False</td>\n",
       "      <td>False</td>\n",
       "      <td>...</td>\n",
       "      <td>https://www.theonion.com/artist-crafting-music...</td>\n",
       "      <td>all_ads</td>\n",
       "      <td>6</td>\n",
       "      <td>NaN</td>\n",
       "      <td>NaN</td>\n",
       "      <td>NaN</td>\n",
       "      <td>NaN</td>\n",
       "      <td>NaN</td>\n",
       "      <td>NaN</td>\n",
       "      <td>NaN</td>\n",
       "    </tr>\n",
       "    <tr>\n",
       "      <th>4</th>\n",
       "      <td>[]</td>\n",
       "      <td>False</td>\n",
       "      <td>dwaxe</td>\n",
       "      <td>None</td>\n",
       "      <td>[]</td>\n",
       "      <td>None</td>\n",
       "      <td>text</td>\n",
       "      <td>t2_3jamc</td>\n",
       "      <td>False</td>\n",
       "      <td>False</td>\n",
       "      <td>...</td>\n",
       "      <td>https://www.theonion.com/homeowner-trying-to-s...</td>\n",
       "      <td>all_ads</td>\n",
       "      <td>6</td>\n",
       "      <td>NaN</td>\n",
       "      <td>NaN</td>\n",
       "      <td>NaN</td>\n",
       "      <td>NaN</td>\n",
       "      <td>NaN</td>\n",
       "      <td>NaN</td>\n",
       "      <td>NaN</td>\n",
       "    </tr>\n",
       "  </tbody>\n",
       "</table>\n",
       "<p>5 rows × 71 columns</p>\n",
       "</div>"
      ],
      "text/plain": [
       "  all_awardings  allow_live_comments               author  \\\n",
       "0            []                False          mothershipq   \n",
       "1            []                False  -ImYourHuckleberry-   \n",
       "2            []                False                dwaxe   \n",
       "3            []                False                dwaxe   \n",
       "4            []                False                dwaxe   \n",
       "\n",
       "  author_flair_css_class author_flair_richtext author_flair_text  \\\n",
       "0                   None                    []              None   \n",
       "1                   None                    []              None   \n",
       "2                   None                    []              None   \n",
       "3                   None                    []              None   \n",
       "4                   None                    []              None   \n",
       "\n",
       "  author_flair_type author_fullname  author_is_blocked  author_patreon_flair  \\\n",
       "0              text        t2_4negm              False                 False   \n",
       "1              text        t2_g3p2c              False                 False   \n",
       "2              text        t2_3jamc              False                 False   \n",
       "3              text        t2_3jamc              False                 False   \n",
       "4              text        t2_3jamc              False                 False   \n",
       "\n",
       "   ...                             url_overridden_by_dest whitelist_status  \\\n",
       "0  ...  https://www.theonion.com/surgeon-kind-of-pisse...          all_ads   \n",
       "1  ...  https://www.theartnewspaper.com/2021/12/31/mcd...          all_ads   \n",
       "2  ...  https://www.theonion.com/gwyneth-paltrow-touts...          all_ads   \n",
       "3  ...  https://www.theonion.com/artist-crafting-music...          all_ads   \n",
       "4  ...  https://www.theonion.com/homeowner-trying-to-s...          all_ads   \n",
       "\n",
       "   wls  crosspost_parent                              crosspost_parent_list  \\\n",
       "0    6               NaN                                                NaN   \n",
       "1    6         t3_rstp9v  [{'all_awardings': [{'award_sub_type': 'GLOBAL...   \n",
       "2    6               NaN                                                NaN   \n",
       "3    6               NaN                                                NaN   \n",
       "4    6               NaN                                                NaN   \n",
       "\n",
       "  removed_by_category media media_embed secure_media  secure_media_embed  \n",
       "0                 NaN   NaN         NaN          NaN                 NaN  \n",
       "1           moderator   NaN         NaN          NaN                 NaN  \n",
       "2                 NaN   NaN         NaN          NaN                 NaN  \n",
       "3                 NaN   NaN         NaN          NaN                 NaN  \n",
       "4                 NaN   NaN         NaN          NaN                 NaN  \n",
       "\n",
       "[5 rows x 71 columns]"
      ]
     },
     "execution_count": 10,
     "metadata": {},
     "output_type": "execute_result"
    }
   ],
   "source": [
    "df.head()"
   ]
  },
  {
   "cell_type": "code",
   "execution_count": 11,
   "id": "f60a8a4c",
   "metadata": {},
   "outputs": [
    {
     "data": {
      "text/plain": [
       "{'all_awardings': [],\n",
       " 'allow_live_comments': False,\n",
       " 'author': 'mothershipq',\n",
       " 'author_flair_css_class': None,\n",
       " 'author_flair_richtext': [],\n",
       " 'author_flair_text': None,\n",
       " 'author_flair_type': 'text',\n",
       " 'author_fullname': 't2_4negm',\n",
       " 'author_is_blocked': False,\n",
       " 'author_patreon_flair': False,\n",
       " 'author_premium': True,\n",
       " 'awarders': [],\n",
       " 'can_mod_post': False,\n",
       " 'contest_mode': False,\n",
       " 'created_utc': 1640973300,\n",
       " 'domain': 'theonion.com',\n",
       " 'full_link': 'https://www.reddit.com/r/TheOnion/comments/rszeht/surgeon_kind_of_pissed_patient_seeing_her/',\n",
       " 'gildings': {},\n",
       " 'id': 'rszeht',\n",
       " 'is_created_from_ads_ui': False,\n",
       " 'is_crosspostable': True,\n",
       " 'is_meta': False,\n",
       " 'is_original_content': False,\n",
       " 'is_reddit_media_domain': False,\n",
       " 'is_robot_indexable': True,\n",
       " 'is_self': False,\n",
       " 'is_video': False,\n",
       " 'link_flair_background_color': '',\n",
       " 'link_flair_richtext': [],\n",
       " 'link_flair_text_color': 'dark',\n",
       " 'link_flair_type': 'text',\n",
       " 'locked': False,\n",
       " 'media_only': False,\n",
       " 'no_follow': True,\n",
       " 'num_comments': 0,\n",
       " 'num_crossposts': 0,\n",
       " 'over_18': False,\n",
       " 'parent_whitelist_status': 'all_ads',\n",
       " 'permalink': '/r/TheOnion/comments/rszeht/surgeon_kind_of_pissed_patient_seeing_her/',\n",
       " 'pinned': False,\n",
       " 'post_hint': 'link',\n",
       " 'preview': {'enabled': False,\n",
       "  'images': [{'id': 'Ls-G4VZF9RASAIDIsUwSMn5B5jzdezqZkuStPEpJSTw',\n",
       "    'resolutions': [{'height': 60,\n",
       "      'url': 'https://external-preview.redd.it/SDO9LrpH8cu70AuYoho8gEjjbsnQA7b0uX6qkNfiA3c.jpg?width=108&amp;crop=smart&amp;auto=webp&amp;s=94a52f7d4d8606c0b20881db39f448e55b5bb20b',\n",
       "      'width': 108},\n",
       "     {'height': 121,\n",
       "      'url': 'https://external-preview.redd.it/SDO9LrpH8cu70AuYoho8gEjjbsnQA7b0uX6qkNfiA3c.jpg?width=216&amp;crop=smart&amp;auto=webp&amp;s=877925b5aa7e92a317d9610f64abef07e85744ac',\n",
       "      'width': 216},\n",
       "     {'height': 180,\n",
       "      'url': 'https://external-preview.redd.it/SDO9LrpH8cu70AuYoho8gEjjbsnQA7b0uX6qkNfiA3c.jpg?width=320&amp;crop=smart&amp;auto=webp&amp;s=e638c03f91f5afc9025828260e8ea607322ee50a',\n",
       "      'width': 320},\n",
       "     {'height': 360,\n",
       "      'url': 'https://external-preview.redd.it/SDO9LrpH8cu70AuYoho8gEjjbsnQA7b0uX6qkNfiA3c.jpg?width=640&amp;crop=smart&amp;auto=webp&amp;s=0543975c7b027afb25cccd03fdcaba5095f2bf3a',\n",
       "      'width': 640},\n",
       "     {'height': 540,\n",
       "      'url': 'https://external-preview.redd.it/SDO9LrpH8cu70AuYoho8gEjjbsnQA7b0uX6qkNfiA3c.jpg?width=960&amp;crop=smart&amp;auto=webp&amp;s=71cc33b30fcd2a293ea44f00381267f325e9cc65',\n",
       "      'width': 960},\n",
       "     {'height': 607,\n",
       "      'url': 'https://external-preview.redd.it/SDO9LrpH8cu70AuYoho8gEjjbsnQA7b0uX6qkNfiA3c.jpg?width=1080&amp;crop=smart&amp;auto=webp&amp;s=b81a7fd43d768cd2738faccbc42c63bce492b86e',\n",
       "      'width': 1080}],\n",
       "    'source': {'height': 675,\n",
       "     'url': 'https://external-preview.redd.it/SDO9LrpH8cu70AuYoho8gEjjbsnQA7b0uX6qkNfiA3c.jpg?auto=webp&amp;s=37d4cec9012e6970682f334d092aa0c75d5a7de9',\n",
       "     'width': 1200},\n",
       "    'variants': {}}]},\n",
       " 'pwls': 6,\n",
       " 'retrieved_on': 1640973310,\n",
       " 'score': 1,\n",
       " 'selftext': '',\n",
       " 'send_replies': True,\n",
       " 'spoiler': False,\n",
       " 'stickied': False,\n",
       " 'subreddit': 'TheOnion',\n",
       " 'subreddit_id': 't5_2qhmj',\n",
       " 'subreddit_subscribers': 165299,\n",
       " 'subreddit_type': 'public',\n",
       " 'thumbnail': 'https://b.thumbs.redditmedia.com/-maE08GSG4LdaNAj13cbKNCZYICEsIK7uhV9cC69MmY.jpg',\n",
       " 'thumbnail_height': 78,\n",
       " 'thumbnail_width': 140,\n",
       " 'title': 'Surgeon Kind Of Pissed Patient Seeing Her Deformed Face For First Time Just Smashed His Hand Mirror Like That',\n",
       " 'total_awards_received': 0,\n",
       " 'treatment_tags': [],\n",
       " 'upvote_ratio': 1.0,\n",
       " 'url': 'https://www.theonion.com/surgeon-kind-of-pissed-patient-seeing-her-deformed-face-1847810432',\n",
       " 'url_overridden_by_dest': 'https://www.theonion.com/surgeon-kind-of-pissed-patient-seeing-her-deformed-face-1847810432',\n",
       " 'whitelist_status': 'all_ads',\n",
       " 'wls': 6}"
      ]
     },
     "execution_count": 11,
     "metadata": {},
     "output_type": "execute_result"
    }
   ],
   "source": [
    "posts[0]"
   ]
  },
  {
   "cell_type": "code",
   "execution_count": 12,
   "id": "b9e83ad3",
   "metadata": {},
   "outputs": [
    {
     "data": {
      "text/html": [
       "<div>\n",
       "<style scoped>\n",
       "    .dataframe tbody tr th:only-of-type {\n",
       "        vertical-align: middle;\n",
       "    }\n",
       "\n",
       "    .dataframe tbody tr th {\n",
       "        vertical-align: top;\n",
       "    }\n",
       "\n",
       "    .dataframe thead th {\n",
       "        text-align: right;\n",
       "    }\n",
       "</style>\n",
       "<table border=\"1\" class=\"dataframe\">\n",
       "  <thead>\n",
       "    <tr style=\"text-align: right;\">\n",
       "      <th></th>\n",
       "      <th>subreddit</th>\n",
       "      <th>title</th>\n",
       "      <th>created_utc</th>\n",
       "    </tr>\n",
       "  </thead>\n",
       "  <tbody>\n",
       "    <tr>\n",
       "      <th>0</th>\n",
       "      <td>TheOnion</td>\n",
       "      <td>Surgeon Kind Of Pissed Patient Seeing Her Defo...</td>\n",
       "      <td>1640973300</td>\n",
       "    </tr>\n",
       "    <tr>\n",
       "      <th>1</th>\n",
       "      <td>TheOnion</td>\n",
       "      <td>McDonald’s blocked from building drive-through...</td>\n",
       "      <td>1640971771</td>\n",
       "    </tr>\n",
       "    <tr>\n",
       "      <th>2</th>\n",
       "      <td>TheOnion</td>\n",
       "      <td>Gwyneth Paltrow Touts New Diamond-Encrusted Tr...</td>\n",
       "      <td>1640955671</td>\n",
       "    </tr>\n",
       "    <tr>\n",
       "      <th>3</th>\n",
       "      <td>TheOnion</td>\n",
       "      <td>Artist Crafting Music Box Hopes It Delights At...</td>\n",
       "      <td>1640955669</td>\n",
       "    </tr>\n",
       "    <tr>\n",
       "      <th>4</th>\n",
       "      <td>TheOnion</td>\n",
       "      <td>Homeowner Trying To Smoke Out Snakes Accidenta...</td>\n",
       "      <td>1640955668</td>\n",
       "    </tr>\n",
       "  </tbody>\n",
       "</table>\n",
       "</div>"
      ],
      "text/plain": [
       "  subreddit                                              title  created_utc\n",
       "0  TheOnion  Surgeon Kind Of Pissed Patient Seeing Her Defo...   1640973300\n",
       "1  TheOnion  McDonald’s blocked from building drive-through...   1640971771\n",
       "2  TheOnion  Gwyneth Paltrow Touts New Diamond-Encrusted Tr...   1640955671\n",
       "3  TheOnion  Artist Crafting Music Box Hopes It Delights At...   1640955669\n",
       "4  TheOnion  Homeowner Trying To Smoke Out Snakes Accidenta...   1640955668"
      ]
     },
     "execution_count": 12,
     "metadata": {},
     "output_type": "execute_result"
    }
   ],
   "source": [
    "df[['subreddit','title','created_utc']].head()"
   ]
  },
  {
   "cell_type": "markdown",
   "id": "20b2dfde",
   "metadata": {},
   "source": [
    "- post 0 = Friday, December 31, 2021 17:55:00\n",
    "- post 1 = Friday, December 31, 2021 17:29:31\n",
    "- post 2 = Friday, December 31, 2021 13:01:11\n",
    "\n",
    "Post 0 is the newest post."
   ]
  },
  {
   "cell_type": "code",
   "execution_count": 13,
   "id": "6106b2de",
   "metadata": {},
   "outputs": [
    {
     "data": {
      "text/html": [
       "<div>\n",
       "<style scoped>\n",
       "    .dataframe tbody tr th:only-of-type {\n",
       "        vertical-align: middle;\n",
       "    }\n",
       "\n",
       "    .dataframe tbody tr th {\n",
       "        vertical-align: top;\n",
       "    }\n",
       "\n",
       "    .dataframe thead th {\n",
       "        text-align: right;\n",
       "    }\n",
       "</style>\n",
       "<table border=\"1\" class=\"dataframe\">\n",
       "  <thead>\n",
       "    <tr style=\"text-align: right;\">\n",
       "      <th></th>\n",
       "      <th>subreddit</th>\n",
       "      <th>title</th>\n",
       "      <th>created_utc</th>\n",
       "    </tr>\n",
       "  </thead>\n",
       "  <tbody>\n",
       "    <tr>\n",
       "      <th>95</th>\n",
       "      <td>TheOnion</td>\n",
       "      <td>Army Receives 15-Yard Penalty For Drone-Striki...</td>\n",
       "      <td>1639255284</td>\n",
       "    </tr>\n",
       "    <tr>\n",
       "      <th>96</th>\n",
       "      <td>TheOnion</td>\n",
       "      <td>The Taliban are trying to Adapt to western ide...</td>\n",
       "      <td>1639242218</td>\n",
       "    </tr>\n",
       "    <tr>\n",
       "      <th>97</th>\n",
       "      <td>TheOnion</td>\n",
       "      <td>‘And What Do You Want Me To Do, Brush Every Ni...</td>\n",
       "      <td>1639241099</td>\n",
       "    </tr>\n",
       "    <tr>\n",
       "      <th>98</th>\n",
       "      <td>TheOnion</td>\n",
       "      <td>Mrs. Fields CEO Under Fire For Laying Off 1,00...</td>\n",
       "      <td>1639241070</td>\n",
       "    </tr>\n",
       "    <tr>\n",
       "      <th>99</th>\n",
       "      <td>TheOnion</td>\n",
       "      <td>End Of Man’s Usefulness To Society Celebrated ...</td>\n",
       "      <td>1639190215</td>\n",
       "    </tr>\n",
       "  </tbody>\n",
       "</table>\n",
       "</div>"
      ],
      "text/plain": [
       "   subreddit                                              title  created_utc\n",
       "95  TheOnion  Army Receives 15-Yard Penalty For Drone-Striki...   1639255284\n",
       "96  TheOnion  The Taliban are trying to Adapt to western ide...   1639242218\n",
       "97  TheOnion  ‘And What Do You Want Me To Do, Brush Every Ni...   1639241099\n",
       "98  TheOnion  Mrs. Fields CEO Under Fire For Laying Off 1,00...   1639241070\n",
       "99  TheOnion  End Of Man’s Usefulness To Society Celebrated ...   1639190215"
      ]
     },
     "execution_count": 13,
     "metadata": {},
     "output_type": "execute_result"
    }
   ],
   "source": [
    "df[['subreddit','title','created_utc']].tail()"
   ]
  },
  {
   "cell_type": "code",
   "execution_count": 14,
   "id": "b2e3290c",
   "metadata": {},
   "outputs": [
    {
     "data": {
      "text/plain": [
       "1639190215"
      ]
     },
     "execution_count": 14,
     "metadata": {},
     "output_type": "execute_result"
    }
   ],
   "source": [
    "df.iloc[-1]['created_utc']"
   ]
  },
  {
   "cell_type": "code",
   "execution_count": 15,
   "id": "5c1b4ee8",
   "metadata": {},
   "outputs": [
    {
     "data": {
      "text/plain": [
       "98"
      ]
     },
     "execution_count": 15,
     "metadata": {},
     "output_type": "execute_result"
    }
   ],
   "source": [
    "df['title'].nunique()"
   ]
  },
  {
   "cell_type": "code",
   "execution_count": 16,
   "id": "5699547b",
   "metadata": {},
   "outputs": [
    {
     "data": {
      "text/plain": [
       "98"
      ]
     },
     "execution_count": 16,
     "metadata": {},
     "output_type": "execute_result"
    }
   ],
   "source": [
    "previous_df = df\n",
    "previous_df['title'].nunique()"
   ]
  },
  {
   "cell_type": "code",
   "execution_count": 17,
   "id": "96b15973",
   "metadata": {},
   "outputs": [
    {
     "name": "stdout",
     "output_type": "stream",
     "text": [
      "try 1, status code is 200\n",
      "try 1, number of posts scrapped is 100\n",
      "try 1, before_time is 1637028589\n",
      "try 1, combined df shape is (200, 71)\n",
      "try 2, status code is 200\n",
      "try 2, number of posts scrapped is 100\n",
      "try 2, before_time is 1635253246\n",
      "try 2, combined df shape is (300, 71)\n",
      "try 3, status code is 200\n",
      "try 3, number of posts scrapped is 100\n",
      "try 3, before_time is 1632588548\n",
      "try 3, combined df shape is (400, 76)\n",
      "try 4, status code is 200\n",
      "try 4, number of posts scrapped is 100\n",
      "try 4, before_time is 1629862378\n",
      "try 4, combined df shape is (500, 76)\n",
      "try 5, status code is 200\n",
      "try 5, number of posts scrapped is 100\n",
      "try 5, before_time is 1626744709\n",
      "try 5, combined df shape is (600, 76)\n",
      "try 6, status code is 200\n",
      "try 6, number of posts scrapped is 100\n",
      "try 6, before_time is 1624497754\n",
      "try 6, combined df shape is (700, 76)\n",
      "try 7, status code is 200\n",
      "try 7, number of posts scrapped is 100\n",
      "try 7, before_time is 1622042395\n",
      "try 7, combined df shape is (800, 76)\n",
      "try 8, status code is 200\n",
      "try 8, number of posts scrapped is 100\n",
      "try 8, before_time is 1620389530\n",
      "try 8, combined df shape is (900, 77)\n",
      "try 9, status code is 200\n",
      "try 9, number of posts scrapped is 100\n",
      "try 9, before_time is 1618445587\n",
      "try 9, combined df shape is (1000, 77)\n",
      "try 10, status code is 200\n",
      "try 10, number of posts scrapped is 100\n",
      "try 10, before_time is 1615309971\n",
      "try 10, combined df shape is (1100, 77)\n"
     ]
    },
    {
     "data": {
      "text/plain": [
       "1000"
      ]
     },
     "execution_count": 17,
     "metadata": {},
     "output_type": "execute_result"
    }
   ],
   "source": [
    "#As api can only scrape 100 posts at a time, run a loop to scrape multiple times\n",
    "#Each loop will scrape for earlier posts before the previous loop and concatenate current loop's results with previous loop\n",
    "before_time = df.iloc[-1]['created_utc']\n",
    "previous_df = df\n",
    "i = 1\n",
    "while previous_df['title'].nunique() < 1_000:\n",
    "    params = {\n",
    "                'subreddit':'theonion',\n",
    "                'size': 100,\n",
    "                'before': before_time\n",
    "            }\n",
    "    res = requests.get(url, params)\n",
    "    print(f'try {i}, status code is {res.status_code}')\n",
    "    data = res.json()\n",
    "    posts = data['data']\n",
    "    print(f'try {i}, number of posts scrapped is {len(posts)}')\n",
    "    df = pd.DataFrame(posts)\n",
    "    before_time = df.iloc[-1]['created_utc']\n",
    "    print(f'try {i}, before_time is {before_time}')\n",
    "    previous_df = pd.concat(objs = [df,previous_df])\n",
    "    print(f'try {i}, combined df shape is {previous_df.shape}')\n",
    "    i+=1\n",
    "    time.sleep(1)\n",
    "theonion_df = previous_df\n",
    "theonion_df.drop_duplicates(subset = ['title'], inplace = True)\n",
    "theonion_df = theonion_df.iloc[:1_000]\n",
    "theonion_df['title'].nunique()"
   ]
  },
  {
   "cell_type": "code",
   "execution_count": null,
   "id": "392c4810",
   "metadata": {},
   "outputs": [],
   "source": [
    "theonion_df.to_csv('../data/the_onion.csv', index = False)"
   ]
  },
  {
   "cell_type": "code",
   "execution_count": 18,
   "id": "3e650a24",
   "metadata": {},
   "outputs": [],
   "source": [
    "params = {\n",
    "    'subreddit':'nottheonion',\n",
    "    'size': 100,\n",
    "    'before': 1640995200\n",
    "    }\n",
    "res = requests.get(url, params)\n",
    "res.status_code\n",
    "data = res.json()\n",
    "posts = data['data']\n",
    "df = pd.DataFrame(posts)"
   ]
  },
  {
   "cell_type": "code",
   "execution_count": 19,
   "id": "957f8402",
   "metadata": {},
   "outputs": [
    {
     "data": {
      "text/plain": [
       "100"
      ]
     },
     "execution_count": 19,
     "metadata": {},
     "output_type": "execute_result"
    }
   ],
   "source": [
    "len(posts)"
   ]
  },
  {
   "cell_type": "code",
   "execution_count": 20,
   "id": "23c4f244",
   "metadata": {},
   "outputs": [
    {
     "data": {
      "text/plain": [
       "{'all_awardings': [],\n",
       " 'allow_live_comments': False,\n",
       " 'author': 'Taco_duck68',\n",
       " 'author_flair_css_class': None,\n",
       " 'author_flair_richtext': [],\n",
       " 'author_flair_text': None,\n",
       " 'author_flair_type': 'text',\n",
       " 'author_fullname': 't2_bqrj5t0e',\n",
       " 'author_is_blocked': False,\n",
       " 'author_patreon_flair': False,\n",
       " 'author_premium': True,\n",
       " 'awarders': [],\n",
       " 'can_mod_post': False,\n",
       " 'contest_mode': False,\n",
       " 'created_utc': 1640995192,\n",
       " 'domain': 'wral.com',\n",
       " 'full_link': 'https://www.reddit.com/r/nottheonion/comments/rt6ods/man_attempts_to_pay_for_car_with_rap_steals/',\n",
       " 'gildings': {},\n",
       " 'id': 'rt6ods',\n",
       " 'is_created_from_ads_ui': False,\n",
       " 'is_crosspostable': True,\n",
       " 'is_meta': False,\n",
       " 'is_original_content': False,\n",
       " 'is_reddit_media_domain': False,\n",
       " 'is_robot_indexable': True,\n",
       " 'is_self': False,\n",
       " 'is_video': False,\n",
       " 'link_flair_background_color': '',\n",
       " 'link_flair_richtext': [],\n",
       " 'link_flair_text_color': 'dark',\n",
       " 'link_flair_type': 'text',\n",
       " 'locked': False,\n",
       " 'media_only': False,\n",
       " 'no_follow': False,\n",
       " 'num_comments': 0,\n",
       " 'num_crossposts': 0,\n",
       " 'over_18': False,\n",
       " 'parent_whitelist_status': 'all_ads',\n",
       " 'permalink': '/r/nottheonion/comments/rt6ods/man_attempts_to_pay_for_car_with_rap_steals/',\n",
       " 'pinned': False,\n",
       " 'post_hint': 'link',\n",
       " 'preview': {'enabled': False,\n",
       "  'images': [{'id': 'TSmZymeNLh_J1q-83p83SPFjFh1x9IwBkU_JSmTQtTo',\n",
       "    'resolutions': [{'height': 81,\n",
       "      'url': 'https://external-preview.redd.it/ftaJDedVPkPQB6kdSU0YzdpOOBnsqrJUzaJ2btKOe3M.jpg?width=108&amp;crop=smart&amp;auto=webp&amp;s=b63c0653b7b6bcdc1f38642c44993f6450c21bf3',\n",
       "      'width': 108},\n",
       "     {'height': 162,\n",
       "      'url': 'https://external-preview.redd.it/ftaJDedVPkPQB6kdSU0YzdpOOBnsqrJUzaJ2btKOe3M.jpg?width=216&amp;crop=smart&amp;auto=webp&amp;s=35a2c8a5597455a8af695bc88135ca12d0cbd82d',\n",
       "      'width': 216},\n",
       "     {'height': 240,\n",
       "      'url': 'https://external-preview.redd.it/ftaJDedVPkPQB6kdSU0YzdpOOBnsqrJUzaJ2btKOe3M.jpg?width=320&amp;crop=smart&amp;auto=webp&amp;s=01862937dc090791a0da2a9c981a681ebfe94a69',\n",
       "      'width': 320},\n",
       "     {'height': 480,\n",
       "      'url': 'https://external-preview.redd.it/ftaJDedVPkPQB6kdSU0YzdpOOBnsqrJUzaJ2btKOe3M.jpg?width=640&amp;crop=smart&amp;auto=webp&amp;s=5ff3af11c8437742afbe00f91c049e2fde70569b',\n",
       "      'width': 640}],\n",
       "    'source': {'height': 480,\n",
       "     'url': 'https://external-preview.redd.it/ftaJDedVPkPQB6kdSU0YzdpOOBnsqrJUzaJ2btKOe3M.jpg?auto=webp&amp;s=cd91715b395c9c16c4d9cb491e9ed82ffd64f179',\n",
       "     'width': 640},\n",
       "    'variants': {}}]},\n",
       " 'pwls': 6,\n",
       " 'retrieved_on': 1640995202,\n",
       " 'score': 1,\n",
       " 'selftext': '',\n",
       " 'send_replies': False,\n",
       " 'spoiler': False,\n",
       " 'stickied': False,\n",
       " 'subreddit': 'nottheonion',\n",
       " 'subreddit_id': 't5_2qnts',\n",
       " 'subreddit_subscribers': 20438953,\n",
       " 'subreddit_type': 'public',\n",
       " 'thumbnail': 'https://b.thumbs.redditmedia.com/e4kP-rPpjO1qGOHE9U10i435Ifd4ypR-WQgzslk5Rek.jpg',\n",
       " 'thumbnail_height': 105,\n",
       " 'thumbnail_width': 140,\n",
       " 'title': 'Man attempts to pay for car with rap, steals potato chip truck',\n",
       " 'total_awards_received': 0,\n",
       " 'treatment_tags': [],\n",
       " 'upvote_ratio': 1.0,\n",
       " 'url': 'https://www.wral.com/man-steals-frito-lay-truck-from-carlie-c-s-store-in-dunn-leads-troopers-chase/20056984/?fbclid=IwAR1CAzvI0plVA3pSe41kH_s5L8wXTln5nwhmcfd-VjZZO8A2nyaxJJGGONc',\n",
       " 'url_overridden_by_dest': 'https://www.wral.com/man-steals-frito-lay-truck-from-carlie-c-s-store-in-dunn-leads-troopers-chase/20056984/?fbclid=IwAR1CAzvI0plVA3pSe41kH_s5L8wXTln5nwhmcfd-VjZZO8A2nyaxJJGGONc',\n",
       " 'whitelist_status': 'all_ads',\n",
       " 'wls': 6}"
      ]
     },
     "execution_count": 20,
     "metadata": {},
     "output_type": "execute_result"
    }
   ],
   "source": [
    "posts[0]"
   ]
  },
  {
   "cell_type": "code",
   "execution_count": 21,
   "id": "36e6b763",
   "metadata": {},
   "outputs": [
    {
     "data": {
      "text/html": [
       "<div>\n",
       "<style scoped>\n",
       "    .dataframe tbody tr th:only-of-type {\n",
       "        vertical-align: middle;\n",
       "    }\n",
       "\n",
       "    .dataframe tbody tr th {\n",
       "        vertical-align: top;\n",
       "    }\n",
       "\n",
       "    .dataframe thead th {\n",
       "        text-align: right;\n",
       "    }\n",
       "</style>\n",
       "<table border=\"1\" class=\"dataframe\">\n",
       "  <thead>\n",
       "    <tr style=\"text-align: right;\">\n",
       "      <th></th>\n",
       "      <th>subreddit</th>\n",
       "      <th>title</th>\n",
       "      <th>created_utc</th>\n",
       "    </tr>\n",
       "  </thead>\n",
       "  <tbody>\n",
       "    <tr>\n",
       "      <th>95</th>\n",
       "      <td>nottheonion</td>\n",
       "      <td>DEA Releases Emoji Drug Decoder</td>\n",
       "      <td>1640919490</td>\n",
       "    </tr>\n",
       "    <tr>\n",
       "      <th>96</th>\n",
       "      <td>nottheonion</td>\n",
       "      <td>Stay safe and remain ugly</td>\n",
       "      <td>1640918203</td>\n",
       "    </tr>\n",
       "    <tr>\n",
       "      <th>97</th>\n",
       "      <td>nottheonion</td>\n",
       "      <td>Man who has been dropping used condoms in temp...</td>\n",
       "      <td>1640917746</td>\n",
       "    </tr>\n",
       "    <tr>\n",
       "      <th>98</th>\n",
       "      <td>nottheonion</td>\n",
       "      <td>Georgia man squirts fart spray called Liquid A...</td>\n",
       "      <td>1640917366</td>\n",
       "    </tr>\n",
       "    <tr>\n",
       "      <th>99</th>\n",
       "      <td>nottheonion</td>\n",
       "      <td>Man faked a COVID positive test to avoid court...</td>\n",
       "      <td>1640917033</td>\n",
       "    </tr>\n",
       "  </tbody>\n",
       "</table>\n",
       "</div>"
      ],
      "text/plain": [
       "      subreddit                                              title  \\\n",
       "95  nottheonion                    DEA Releases Emoji Drug Decoder   \n",
       "96  nottheonion                          Stay safe and remain ugly   \n",
       "97  nottheonion  Man who has been dropping used condoms in temp...   \n",
       "98  nottheonion  Georgia man squirts fart spray called Liquid A...   \n",
       "99  nottheonion  Man faked a COVID positive test to avoid court...   \n",
       "\n",
       "    created_utc  \n",
       "95   1640919490  \n",
       "96   1640918203  \n",
       "97   1640917746  \n",
       "98   1640917366  \n",
       "99   1640917033  "
      ]
     },
     "execution_count": 21,
     "metadata": {},
     "output_type": "execute_result"
    }
   ],
   "source": [
    "df[['subreddit','title','created_utc']].tail()"
   ]
  },
  {
   "cell_type": "code",
   "execution_count": 22,
   "id": "3e741f3e",
   "metadata": {},
   "outputs": [
    {
     "name": "stdout",
     "output_type": "stream",
     "text": [
      "try 1, status code is 200\n",
      "try 1, number of posts scrapped is 100\n",
      "try 1, before_time is 1640859919\n",
      "try 1, combined df shape is (200, 73)\n",
      "try 2, status code is 200\n",
      "try 2, number of posts scrapped is 100\n",
      "try 2, before_time is 1640803266\n",
      "try 2, combined df shape is (300, 73)\n",
      "try 3, status code is 200\n",
      "try 3, number of posts scrapped is 100\n",
      "try 3, before_time is 1640751254\n",
      "try 3, combined df shape is (400, 73)\n",
      "try 4, status code is 200\n",
      "try 4, number of posts scrapped is 100\n",
      "try 4, before_time is 1640698420\n",
      "try 4, combined df shape is (500, 73)\n",
      "try 5, status code is 200\n",
      "try 5, number of posts scrapped is 100\n",
      "try 5, before_time is 1640607307\n",
      "try 5, combined df shape is (600, 73)\n",
      "try 6, status code is 200\n",
      "try 6, number of posts scrapped is 98\n",
      "try 6, before_time is 1640502834\n",
      "try 6, combined df shape is (698, 73)\n",
      "try 7, status code is 200\n",
      "try 7, number of posts scrapped is 100\n",
      "try 7, before_time is 1640383202\n",
      "try 7, combined df shape is (798, 73)\n",
      "try 8, status code is 200\n",
      "try 8, number of posts scrapped is 100\n",
      "try 8, before_time is 1640312994\n",
      "try 8, combined df shape is (898, 73)\n",
      "try 9, status code is 200\n",
      "try 9, number of posts scrapped is 100\n",
      "try 9, before_time is 1640257217\n",
      "try 9, combined df shape is (998, 73)\n",
      "try 10, status code is 200\n",
      "try 10, number of posts scrapped is 99\n",
      "try 10, before_time is 1640193464\n",
      "try 10, combined df shape is (1097, 73)\n",
      "try 11, status code is 200\n",
      "try 11, number of posts scrapped is 100\n",
      "try 11, before_time is 1640129127\n",
      "try 11, combined df shape is (1197, 73)\n",
      "try 12, status code is 200\n",
      "try 12, number of posts scrapped is 100\n",
      "try 12, before_time is 1640085332\n",
      "try 12, combined df shape is (1297, 74)\n"
     ]
    },
    {
     "data": {
      "text/plain": [
       "1000"
      ]
     },
     "execution_count": 22,
     "metadata": {},
     "output_type": "execute_result"
    }
   ],
   "source": [
    "#As api can only scrape 100 posts at a time, run a loop to scrape multiple times\n",
    "#Each loop will scrape for earlier posts before the previous loop and concatenate current loop's results with previous loop\n",
    "before_time = df.iloc[-1]['created_utc']\n",
    "previous_df = df\n",
    "i = 1\n",
    "while previous_df['title'].nunique() < 1_000:\n",
    "    params = {\n",
    "                'subreddit':'nottheonion',\n",
    "                'size': 100,\n",
    "                'before': before_time\n",
    "            }\n",
    "    res = requests.get(url, params)\n",
    "    print(f'try {i}, status code is {res.status_code}')\n",
    "    data = res.json()\n",
    "    posts = data['data']\n",
    "    print(f'try {i}, number of posts scrapped is {len(posts)}')\n",
    "    df = pd.DataFrame(posts)\n",
    "    before_time = df.iloc[-1]['created_utc']\n",
    "    print(f'try {i}, before_time is {before_time}')\n",
    "    previous_df = pd.concat(objs = [df,previous_df])\n",
    "    print(f'try {i}, combined df shape is {previous_df.shape}')\n",
    "    i+=1\n",
    "    time.sleep(1)\n",
    "nottheonion_df = previous_df\n",
    "nottheonion_df.drop_duplicates(subset = ['title'], inplace = True)\n",
    "nottheonion_df = nottheonion_df.iloc[:1_000]\n",
    "nottheonion_df['title'].nunique()"
   ]
  },
  {
   "cell_type": "code",
   "execution_count": null,
   "id": "c4ff52a4",
   "metadata": {},
   "outputs": [],
   "source": [
    "nottheonion_df.to_csv('../data/not_the_onion.csv', index = False)"
   ]
  },
  {
   "cell_type": "code",
   "execution_count": 23,
   "id": "e62f4558",
   "metadata": {},
   "outputs": [
    {
     "data": {
      "text/plain": [
       "Index(['all_awardings', 'allow_live_comments', 'author',\n",
       "       'author_flair_css_class', 'author_flair_richtext', 'author_flair_text',\n",
       "       'author_flair_type', 'author_fullname', 'author_is_blocked',\n",
       "       'author_patreon_flair', 'author_premium', 'awarders', 'can_mod_post',\n",
       "       'contest_mode', 'created_utc', 'domain', 'full_link', 'gildings', 'id',\n",
       "       'is_created_from_ads_ui', 'is_crosspostable', 'is_meta',\n",
       "       'is_original_content', 'is_reddit_media_domain', 'is_robot_indexable',\n",
       "       'is_self', 'is_video', 'link_flair_background_color',\n",
       "       'link_flair_richtext', 'link_flair_text_color', 'link_flair_type',\n",
       "       'locked', 'media_only', 'no_follow', 'num_comments', 'num_crossposts',\n",
       "       'over_18', 'parent_whitelist_status', 'permalink', 'pinned', 'pwls',\n",
       "       'removed_by_category', 'retrieved_on', 'score', 'selftext',\n",
       "       'send_replies', 'spoiler', 'stickied', 'subreddit', 'subreddit_id',\n",
       "       'subreddit_subscribers', 'subreddit_type', 'thumbnail', 'title',\n",
       "       'total_awards_received', 'treatment_tags', 'upvote_ratio', 'url',\n",
       "       'url_overridden_by_dest', 'whitelist_status', 'wls', 'post_hint',\n",
       "       'preview', 'thumbnail_height', 'thumbnail_width', 'crosspost_parent',\n",
       "       'crosspost_parent_list', 'media', 'media_embed', 'secure_media',\n",
       "       'secure_media_embed', 'author_cakeday', 'author_flair_background_color',\n",
       "       'author_flair_text_color'],\n",
       "      dtype='object')"
      ]
     },
     "execution_count": 23,
     "metadata": {},
     "output_type": "execute_result"
    }
   ],
   "source": [
    "df.columns"
   ]
  },
  {
   "cell_type": "markdown",
   "id": "3f3ada6c",
   "metadata": {},
   "source": [
    "Find out what are the extra columns in the theonion dataframe."
   ]
  },
  {
   "cell_type": "code",
   "execution_count": 24,
   "id": "a2bb1119",
   "metadata": {},
   "outputs": [
    {
     "data": {
      "text/plain": [
       "['gallery_data', 'is_gallery', 'media_metadata']"
      ]
     },
     "execution_count": 24,
     "metadata": {},
     "output_type": "execute_result"
    }
   ],
   "source": [
    "extra_columns = []\n",
    "for column in theonion_df.columns:\n",
    "    if column not in nottheonion_df.columns:\n",
    "        extra_columns.append(column)\n",
    "        \n",
    "extra_columns"
   ]
  },
  {
   "cell_type": "markdown",
   "id": "4d794068",
   "metadata": {},
   "source": [
    "The 3 extra columns are related to the gallery and media metadata, which will not affect text analysis."
   ]
  },
  {
   "cell_type": "code",
   "execution_count": 25,
   "id": "ff84921d",
   "metadata": {},
   "outputs": [],
   "source": [
    "def lemmatize(text):\n",
    "    #Match a-z, A-Z, 0-9, _\n",
    "    tokenizer = RegexpTokenizer(r'\\w+')\n",
    "    title_tokens = tokenizer.tokenize(text)\n",
    "    #As stop words are all in lower case, convert tokens to lower case to match them to stop words later \n",
    "    title_tokens = [token.lower() for token in title_tokens]\n",
    "    lemmatizer = WordNetLemmatizer()\n",
    "    #Match and remove stop words, then lemmatize\n",
    "    lem_tokens = [lemmatizer.lemmatize(i) for i in title_tokens if i not in stopwords.words('english')]\n",
    "    #Join lemmatized tokens with a space in between, back into a sentence. Also converts all tokens to lower case. \n",
    "    return(\" \".join(lem_tokens)).lower()"
   ]
  },
  {
   "cell_type": "code",
   "execution_count": 26,
   "id": "32bec0e5",
   "metadata": {},
   "outputs": [
    {
     "data": {
      "text/plain": [
       "'quick brown fox computer compute'"
      ]
     },
     "execution_count": 26,
     "metadata": {},
     "output_type": "execute_result"
    }
   ],
   "source": [
    "lemmatize('A quick brown a fox computer compute..')"
   ]
  },
  {
   "cell_type": "code",
   "execution_count": 27,
   "id": "0f91832d",
   "metadata": {},
   "outputs": [],
   "source": [
    "theonion_df['lem_title'] = theonion_df['title'].apply(lemmatize)"
   ]
  },
  {
   "cell_type": "code",
   "execution_count": 28,
   "id": "b3ddb3e5",
   "metadata": {},
   "outputs": [
    {
     "data": {
      "text/html": [
       "<div>\n",
       "<style scoped>\n",
       "    .dataframe tbody tr th:only-of-type {\n",
       "        vertical-align: middle;\n",
       "    }\n",
       "\n",
       "    .dataframe tbody tr th {\n",
       "        vertical-align: top;\n",
       "    }\n",
       "\n",
       "    .dataframe thead th {\n",
       "        text-align: right;\n",
       "    }\n",
       "</style>\n",
       "<table border=\"1\" class=\"dataframe\">\n",
       "  <thead>\n",
       "    <tr style=\"text-align: right;\">\n",
       "      <th></th>\n",
       "      <th>title</th>\n",
       "      <th>lem_title</th>\n",
       "    </tr>\n",
       "  </thead>\n",
       "  <tbody>\n",
       "    <tr>\n",
       "      <th>0</th>\n",
       "      <td>abby lee miller has cancer</td>\n",
       "      <td>abby lee miller cancer</td>\n",
       "    </tr>\n",
       "    <tr>\n",
       "      <th>1</th>\n",
       "      <td>Amazon Celebrates Union Defeat By Raising All ...</td>\n",
       "      <td>amazon celebrates union defeat raising price 1...</td>\n",
       "    </tr>\n",
       "    <tr>\n",
       "      <th>2</th>\n",
       "      <td>New Arkansas Bill Would Require Teen Residents...</td>\n",
       "      <td>new arkansas bill would require teen resident ...</td>\n",
       "    </tr>\n",
       "    <tr>\n",
       "      <th>3</th>\n",
       "      <td>‘No Way To Prevent This.’ Says Only Nation Whe...</td>\n",
       "      <td>way prevent say nation regularly happens</td>\n",
       "    </tr>\n",
       "    <tr>\n",
       "      <th>4</th>\n",
       "      <td>Panthers Adopt Patchy-Haired, Shivering Rescue...</td>\n",
       "      <td>panther adopt patchy haired shivering rescue q...</td>\n",
       "    </tr>\n",
       "  </tbody>\n",
       "</table>\n",
       "</div>"
      ],
      "text/plain": [
       "                                               title  \\\n",
       "0                         abby lee miller has cancer   \n",
       "1  Amazon Celebrates Union Defeat By Raising All ...   \n",
       "2  New Arkansas Bill Would Require Teen Residents...   \n",
       "3  ‘No Way To Prevent This.’ Says Only Nation Whe...   \n",
       "4  Panthers Adopt Patchy-Haired, Shivering Rescue...   \n",
       "\n",
       "                                           lem_title  \n",
       "0                             abby lee miller cancer  \n",
       "1  amazon celebrates union defeat raising price 1...  \n",
       "2  new arkansas bill would require teen resident ...  \n",
       "3           way prevent say nation regularly happens  \n",
       "4  panther adopt patchy haired shivering rescue q...  "
      ]
     },
     "execution_count": 28,
     "metadata": {},
     "output_type": "execute_result"
    }
   ],
   "source": [
    "theonion_df[['title','lem_title']].head()"
   ]
  },
  {
   "cell_type": "code",
   "execution_count": 29,
   "id": "a5eace18",
   "metadata": {},
   "outputs": [
    {
     "name": "stderr",
     "output_type": "stream",
     "text": [
      "<ipython-input-29-565dd280f5b1>:1: SettingWithCopyWarning: \n",
      "A value is trying to be set on a copy of a slice from a DataFrame.\n",
      "Try using .loc[row_indexer,col_indexer] = value instead\n",
      "\n",
      "See the caveats in the documentation: https://pandas.pydata.org/pandas-docs/stable/user_guide/indexing.html#returning-a-view-versus-a-copy\n",
      "  nottheonion_df['lem_title'] = nottheonion_df['title'].apply(lemmatize)\n"
     ]
    }
   ],
   "source": [
    "nottheonion_df['lem_title'] = nottheonion_df['title'].apply(lemmatize)"
   ]
  },
  {
   "cell_type": "code",
   "execution_count": 30,
   "id": "673a8d0d",
   "metadata": {},
   "outputs": [
    {
     "data": {
      "text/html": [
       "<div>\n",
       "<style scoped>\n",
       "    .dataframe tbody tr th:only-of-type {\n",
       "        vertical-align: middle;\n",
       "    }\n",
       "\n",
       "    .dataframe tbody tr th {\n",
       "        vertical-align: top;\n",
       "    }\n",
       "\n",
       "    .dataframe thead th {\n",
       "        text-align: right;\n",
       "    }\n",
       "</style>\n",
       "<table border=\"1\" class=\"dataframe\">\n",
       "  <thead>\n",
       "    <tr style=\"text-align: right;\">\n",
       "      <th></th>\n",
       "      <th>title</th>\n",
       "      <th>lem_title</th>\n",
       "    </tr>\n",
       "  </thead>\n",
       "  <tbody>\n",
       "    <tr>\n",
       "      <th>0</th>\n",
       "      <td>Kanye West Jumped Into Swan Lake in the Middle...</td>\n",
       "      <td>kanye west jumped swan lake middle free concert</td>\n",
       "    </tr>\n",
       "    <tr>\n",
       "      <th>1</th>\n",
       "      <td>Ex-Versace model credits youthful looks to dri...</td>\n",
       "      <td>ex versace model credit youthful look drinking...</td>\n",
       "    </tr>\n",
       "    <tr>\n",
       "      <th>2</th>\n",
       "      <td>What else is he supposed to do against all tho...</td>\n",
       "      <td>else supposed vicious bloodthirsty ukrainian</td>\n",
       "    </tr>\n",
       "    <tr>\n",
       "      <th>3</th>\n",
       "      <td>Superyacht building boom creates a supply crun...</td>\n",
       "      <td>superyacht building boom creates supply crunch...</td>\n",
       "    </tr>\n",
       "    <tr>\n",
       "      <th>4</th>\n",
       "      <td>Barrister who sued after colleague asked him t...</td>\n",
       "      <td>barrister sued colleague asked stop farting lo...</td>\n",
       "    </tr>\n",
       "  </tbody>\n",
       "</table>\n",
       "</div>"
      ],
      "text/plain": [
       "                                               title  \\\n",
       "0  Kanye West Jumped Into Swan Lake in the Middle...   \n",
       "1  Ex-Versace model credits youthful looks to dri...   \n",
       "2  What else is he supposed to do against all tho...   \n",
       "3  Superyacht building boom creates a supply crun...   \n",
       "4  Barrister who sued after colleague asked him t...   \n",
       "\n",
       "                                           lem_title  \n",
       "0    kanye west jumped swan lake middle free concert  \n",
       "1  ex versace model credit youthful look drinking...  \n",
       "2       else supposed vicious bloodthirsty ukrainian  \n",
       "3  superyacht building boom creates supply crunch...  \n",
       "4  barrister sued colleague asked stop farting lo...  "
      ]
     },
     "execution_count": 30,
     "metadata": {},
     "output_type": "execute_result"
    }
   ],
   "source": [
    "nottheonion_df[['title','lem_title']].head()"
   ]
  },
  {
   "cell_type": "markdown",
   "id": "d3f94467",
   "metadata": {},
   "source": [
    "----\n",
    "Most common n-grams for The Onion Subreddit"
   ]
  },
  {
   "cell_type": "code",
   "execution_count": 31,
   "id": "d8301039",
   "metadata": {},
   "outputs": [
    {
     "data": {
      "text/plain": [
       "Text(0.5, 1.0, 'Most popular unigram for The Onion Subreddit')"
      ]
     },
     "execution_count": 31,
     "metadata": {},
     "output_type": "execute_result"
    },
    {
     "data": {
      "image/png": "[encoded data removed]",
      "text/plain": [
       "<Figure size 432x288 with 1 Axes>"
      ]
     },
     "metadata": {
      "needs_background": "light"
     },
     "output_type": "display_data"
    }
   ],
   "source": [
    "cvec = CountVectorizer()\n",
    "the_onion_lem_title = cvec.fit_transform(theonion_df['lem_title'])\n",
    "the_onion_lem_title_df = pd.DataFrame(the_onion_lem_title.toarray(), columns = cvec.get_feature_names())\n",
    "the_onion_lem_title_df.sum().sort_values(ascending = False).head(10).plot(kind = 'barh')\n",
    "plt.ylabel('Unigram')\n",
    "plt.xlabel('Count')\n",
    "plt.title('Most popular unigram for The Onion Subreddit')"
   ]
  },
  {
   "cell_type": "code",
   "execution_count": 32,
   "id": "3ad2ff9e",
   "metadata": {},
   "outputs": [
    {
     "data": {
      "text/plain": [
       "Text(0.5, 1.0, 'Most popular bigram for The Onion Subreddit')"
      ]
     },
     "execution_count": 32,
     "metadata": {},
     "output_type": "execute_result"
    },
    {
     "data": {
      "image/png": "[encoded data removed]",
      "text/plain": [
       "<Figure size 432x288 with 1 Axes>"
      ]
     },
     "metadata": {
      "needs_background": "light"
     },
     "output_type": "display_data"
    }
   ],
   "source": [
    "cvec_bi = CountVectorizer(ngram_range=(2,2))\n",
    "the_onion_lem_title_bi = cvec_bi.fit_transform(theonion_df['lem_title'])\n",
    "the_onion_lem_title_bi_df = pd.DataFrame(the_onion_lem_title_bi.toarray(), columns = cvec_bi.get_feature_names())\n",
    "the_onion_lem_title_bi_df.sum().sort_values(ascending = False).head(10).plot(kind = 'barh')\n",
    "plt.ylabel('Bigram')\n",
    "plt.xlabel('Count')\n",
    "plt.title('Most popular bigram for The Onion Subreddit')"
   ]
  },
  {
   "cell_type": "code",
   "execution_count": 33,
   "id": "41cb0093",
   "metadata": {},
   "outputs": [
    {
     "data": {
      "text/plain": [
       "Text(0.5, 1.0, 'Most popular trigram for The Onion Subreddit')"
      ]
     },
     "execution_count": 33,
     "metadata": {},
     "output_type": "execute_result"
    },
    {
     "data": {
      "image/png": "[encoded data removed]",
      "text/plain": [
       "<Figure size 432x288 with 1 Axes>"
      ]
     },
     "metadata": {
      "needs_background": "light"
     },
     "output_type": "display_data"
    }
   ],
   "source": [
    "cvec_tri = CountVectorizer(ngram_range=(3,3))\n",
    "the_onion_lem_title_tri = cvec_tri.fit_transform(theonion_df['lem_title'])\n",
    "the_onion_lem_title_tri_df = pd.DataFrame(the_onion_lem_title_tri.toarray(), columns = cvec_tri.get_feature_names())\n",
    "the_onion_lem_title_tri_df.sum().sort_values(ascending = False).head(10).plot(kind = 'barh')\n",
    "plt.ylabel('Trigram')\n",
    "plt.xlabel('Count')\n",
    "plt.title('Most popular trigram for The Onion Subreddit')"
   ]
  },
  {
   "cell_type": "markdown",
   "id": "43406a8a",
   "metadata": {},
   "source": [
    "----\n",
    "Most common n-grams for Not The Onion Subreddit"
   ]
  },
  {
   "cell_type": "code",
   "execution_count": 34,
   "id": "caa96233",
   "metadata": {},
   "outputs": [
    {
     "data": {
      "text/plain": [
       "Text(0.5, 1.0, 'Most popular unigram for Not The Onion Subreddit')"
      ]
     },
     "execution_count": 34,
     "metadata": {},
     "output_type": "execute_result"
    },
    {
     "data": {
      "image/png": "[encoded data removed]",
      "text/plain": [
       "<Figure size 432x288 with 1 Axes>"
      ]
     },
     "metadata": {
      "needs_background": "light"
     },
     "output_type": "display_data"
    }
   ],
   "source": [
    "cvec = CountVectorizer()\n",
    "not_the_onion_lem_title = cvec.fit_transform(nottheonion_df['lem_title'])\n",
    "not_the_onion_lem_title_df = pd.DataFrame(not_the_onion_lem_title.toarray(), columns = cvec.get_feature_names())\n",
    "not_the_onion_lem_title_df.sum().sort_values(ascending = False).head(10).plot(kind = 'barh')\n",
    "plt.ylabel('Unigram')\n",
    "plt.xlabel('Count')\n",
    "plt.title('Most popular unigram for Not The Onion Subreddit')"
   ]
  },
  {
   "cell_type": "code",
   "execution_count": 35,
   "id": "d9aaf5d1",
   "metadata": {},
   "outputs": [
    {
     "data": {
      "text/plain": [
       "Text(0.5, 1.0, 'Most popular bigram for Not The Onion Subreddit')"
      ]
     },
     "execution_count": 35,
     "metadata": {},
     "output_type": "execute_result"
    },
    {
     "data": {
      "image/png": "[encoded data removed]",
      "text/plain": [
       "<Figure size 432x288 with 1 Axes>"
      ]
     },
     "metadata": {
      "needs_background": "light"
     },
     "output_type": "display_data"
    }
   ],
   "source": [
    "cvec_bi = CountVectorizer(ngram_range=(2,2))\n",
    "not_the_onion_lem_title_bi = cvec_bi.fit_transform(nottheonion_df['lem_title'])\n",
    "not_the_onion_lem_title_bi_df = pd.DataFrame(not_the_onion_lem_title_bi.toarray(), columns = cvec_bi.get_feature_names())\n",
    "not_the_onion_lem_title_bi_df.sum().sort_values(ascending = False).head(10).plot(kind = 'barh')\n",
    "plt.ylabel('Bigram')\n",
    "plt.xlabel('Count')\n",
    "plt.title('Most popular bigram for Not The Onion Subreddit')"
   ]
  },
  {
   "cell_type": "code",
   "execution_count": 36,
   "id": "c833d981",
   "metadata": {},
   "outputs": [
    {
     "data": {
      "text/plain": [
       "Text(0.5, 1.0, 'Most popular trigram for Not The Onion Subreddit')"
      ]
     },
     "execution_count": 36,
     "metadata": {},
     "output_type": "execute_result"
    },
    {
     "data": {
      "image/png": "[encoded data removed]",
      "text/plain": [
       "<Figure size 432x288 with 1 Axes>"
      ]
     },
     "metadata": {
      "needs_background": "light"
     },
     "output_type": "display_data"
    }
   ],
   "source": [
    "cvec_tri = CountVectorizer(ngram_range=(3,3))\n",
    "not_the_onion_lem_title_tri = cvec_tri.fit_transform(nottheonion_df['lem_title'])\n",
    "not_the_onion_lem_title_tri_df = pd.DataFrame(not_the_onion_lem_title_tri.toarray(), columns = cvec_tri.get_feature_names())\n",
    "not_the_onion_lem_title_tri_df.sum().sort_values(ascending = False).head(10).plot(kind = 'barh')\n",
    "plt.ylabel('Trigram')\n",
    "plt.xlabel('Count')\n",
    "plt.title('Most popular trigram for Not The Onion Subreddit')"
   ]
  },
  {
   "cell_type": "markdown",
   "id": "5518aa42",
   "metadata": {},
   "source": [
    "----\n",
    "Combining datasets of both subreddits"
   ]
  },
  {
   "cell_type": "code",
   "execution_count": 37,
   "id": "cde5c7b9",
   "metadata": {},
   "outputs": [
    {
     "name": "stderr",
     "output_type": "stream",
     "text": [
      "<ipython-input-37-e194c362d21f>:2: SettingWithCopyWarning: \n",
      "A value is trying to be set on a copy of a slice from a DataFrame.\n",
      "Try using .loc[row_indexer,col_indexer] = value instead\n",
      "\n",
      "See the caveats in the documentation: https://pandas.pydata.org/pandas-docs/stable/user_guide/indexing.html#returning-a-view-versus-a-copy\n",
      "  nottheonion_df['onion'] = 0\n"
     ]
    }
   ],
   "source": [
    "theonion_df['onion'] = 1\n",
    "nottheonion_df['onion'] = 0"
   ]
  },
  {
   "cell_type": "code",
   "execution_count": 38,
   "id": "eb71b34a",
   "metadata": {},
   "outputs": [
    {
     "data": {
      "text/html": [
       "<div>\n",
       "<style scoped>\n",
       "    .dataframe tbody tr th:only-of-type {\n",
       "        vertical-align: middle;\n",
       "    }\n",
       "\n",
       "    .dataframe tbody tr th {\n",
       "        vertical-align: top;\n",
       "    }\n",
       "\n",
       "    .dataframe thead th {\n",
       "        text-align: right;\n",
       "    }\n",
       "</style>\n",
       "<table border=\"1\" class=\"dataframe\">\n",
       "  <thead>\n",
       "    <tr style=\"text-align: right;\">\n",
       "      <th></th>\n",
       "      <th>lem_title</th>\n",
       "      <th>onion</th>\n",
       "    </tr>\n",
       "  </thead>\n",
       "  <tbody>\n",
       "    <tr>\n",
       "      <th>0</th>\n",
       "      <td>abby lee miller cancer</td>\n",
       "      <td>1</td>\n",
       "    </tr>\n",
       "    <tr>\n",
       "      <th>1</th>\n",
       "      <td>amazon celebrates union defeat raising price 1...</td>\n",
       "      <td>1</td>\n",
       "    </tr>\n",
       "    <tr>\n",
       "      <th>2</th>\n",
       "      <td>new arkansas bill would require teen resident ...</td>\n",
       "      <td>1</td>\n",
       "    </tr>\n",
       "    <tr>\n",
       "      <th>3</th>\n",
       "      <td>way prevent say nation regularly happens</td>\n",
       "      <td>1</td>\n",
       "    </tr>\n",
       "    <tr>\n",
       "      <th>4</th>\n",
       "      <td>panther adopt patchy haired shivering rescue q...</td>\n",
       "      <td>1</td>\n",
       "    </tr>\n",
       "  </tbody>\n",
       "</table>\n",
       "</div>"
      ],
      "text/plain": [
       "                                           lem_title  onion\n",
       "0                             abby lee miller cancer      1\n",
       "1  amazon celebrates union defeat raising price 1...      1\n",
       "2  new arkansas bill would require teen resident ...      1\n",
       "3           way prevent say nation regularly happens      1\n",
       "4  panther adopt patchy haired shivering rescue q...      1"
      ]
     },
     "execution_count": 38,
     "metadata": {},
     "output_type": "execute_result"
    }
   ],
   "source": [
    "combined_df = pd.concat(objs = [theonion_df,nottheonion_df])\n",
    "combined_df[['lem_title','onion']].head()"
   ]
  },
  {
   "cell_type": "code",
   "execution_count": 39,
   "id": "b84be460",
   "metadata": {},
   "outputs": [
    {
     "data": {
      "text/html": [
       "<div>\n",
       "<style scoped>\n",
       "    .dataframe tbody tr th:only-of-type {\n",
       "        vertical-align: middle;\n",
       "    }\n",
       "\n",
       "    .dataframe tbody tr th {\n",
       "        vertical-align: top;\n",
       "    }\n",
       "\n",
       "    .dataframe thead th {\n",
       "        text-align: right;\n",
       "    }\n",
       "</style>\n",
       "<table border=\"1\" class=\"dataframe\">\n",
       "  <thead>\n",
       "    <tr style=\"text-align: right;\">\n",
       "      <th></th>\n",
       "      <th>lem_title</th>\n",
       "      <th>onion</th>\n",
       "    </tr>\n",
       "  </thead>\n",
       "  <tbody>\n",
       "    <tr>\n",
       "      <th>22</th>\n",
       "      <td>call thespian actor say nicolas cage</td>\n",
       "      <td>0</td>\n",
       "    </tr>\n",
       "    <tr>\n",
       "      <th>23</th>\n",
       "      <td>giuffre lawyer seek detail prince andrew claim...</td>\n",
       "      <td>0</td>\n",
       "    </tr>\n",
       "    <tr>\n",
       "      <th>24</th>\n",
       "      <td>betty white dead 99</td>\n",
       "      <td>0</td>\n",
       "    </tr>\n",
       "    <tr>\n",
       "      <th>25</th>\n",
       "      <td>central texas red cross sending least one volu...</td>\n",
       "      <td>0</td>\n",
       "    </tr>\n",
       "    <tr>\n",
       "      <th>26</th>\n",
       "      <td>virginia giuffre lawyer demand proof prince an...</td>\n",
       "      <td>0</td>\n",
       "    </tr>\n",
       "  </tbody>\n",
       "</table>\n",
       "</div>"
      ],
      "text/plain": [
       "                                            lem_title  onion\n",
       "22               call thespian actor say nicolas cage      0\n",
       "23  giuffre lawyer seek detail prince andrew claim...      0\n",
       "24                                betty white dead 99      0\n",
       "25  central texas red cross sending least one volu...      0\n",
       "26  virginia giuffre lawyer demand proof prince an...      0"
      ]
     },
     "execution_count": 39,
     "metadata": {},
     "output_type": "execute_result"
    }
   ],
   "source": [
    "combined_df[['lem_title','onion']].tail()"
   ]
  },
  {
   "cell_type": "code",
   "execution_count": 40,
   "id": "1f47df5f",
   "metadata": {},
   "outputs": [],
   "source": [
    "X = combined_df['lem_title']\n",
    "y = combined_df['onion']\n",
    "\n",
    "X_train, X_test, y_train, y_test = train_test_split(X, y, stratify = y, random_state=42)"
   ]
  },
  {
   "cell_type": "code",
   "execution_count": 41,
   "id": "4ce3085b",
   "metadata": {},
   "outputs": [
    {
     "data": {
      "text/plain": [
       "(1500,)"
      ]
     },
     "execution_count": 41,
     "metadata": {},
     "output_type": "execute_result"
    }
   ],
   "source": [
    "X_train.shape"
   ]
  },
  {
   "cell_type": "code",
   "execution_count": 42,
   "id": "fc6faf05",
   "metadata": {},
   "outputs": [
    {
     "data": {
      "text/plain": [
       "(1500,)"
      ]
     },
     "execution_count": 42,
     "metadata": {},
     "output_type": "execute_result"
    }
   ],
   "source": [
    "y_train.shape"
   ]
  },
  {
   "cell_type": "code",
   "execution_count": 43,
   "id": "554d9817",
   "metadata": {},
   "outputs": [
    {
     "name": "stdout",
     "output_type": "stream",
     "text": [
      "0.7040000000000001\n",
      "{'cvec__max_features': 4000, 'cvec__ngram_range': (1, 1)}\n",
      "0.734\n"
     ]
    }
   ],
   "source": [
    "pipe = Pipeline([('cvec', CountVectorizer()),('nb', MultinomialNB())])\n",
    "\n",
    "pipe_params = {\n",
    "    'cvec__max_features':[1_000,2_000,3_000,4_000,5_000],\n",
    "    'cvec__ngram_range':[(1,1),(1,2),(1,3),(2,2),(2,3),(3,3)]\n",
    "}\n",
    "\n",
    "gs = GridSearchCV(pipe, param_grid = pipe_params, cv = 5)\n",
    "gs.fit(X_train, y_train)\n",
    "print(gs.best_score_)\n",
    "print(gs.best_params_)\n",
    "print(gs.score(X_test, y_test))"
   ]
  },
  {
   "cell_type": "code",
   "execution_count": 44,
   "id": "89e68602",
   "metadata": {},
   "outputs": [
    {
     "name": "stdout",
     "output_type": "stream",
     "text": [
      "0.7066666666666667\n",
      "{'tvec__max_features': 5000, 'tvec__ngram_range': (1, 1)}\n",
      "0.76\n"
     ]
    }
   ],
   "source": [
    "pipe = Pipeline([('tvec', TfidfVectorizer()),('nb', MultinomialNB())])\n",
    "\n",
    "pipe_params = {\n",
    "    'tvec__max_features':[1_000,2_000,3_000,4_000,5_000,6_000,7_000],\n",
    "    'tvec__ngram_range':[(1,1),(1,2),(1,3),(2,2),(2,3),(3,3)]\n",
    "}\n",
    "\n",
    "gs = GridSearchCV(pipe, param_grid = pipe_params, cv = 5)\n",
    "gs.fit(X_train, y_train)\n",
    "print(gs.best_score_)\n",
    "print(gs.best_params_)\n",
    "print(gs.score(X_test, y_test))"
   ]
  },
  {
   "cell_type": "code",
   "execution_count": 45,
   "id": "2bdc4fb4",
   "metadata": {},
   "outputs": [
    {
     "name": "stdout",
     "output_type": "stream",
     "text": [
      "0.6893333333333334\n",
      "{'cvec__max_features': 2000, 'cvec__ngram_range': (1, 2), 'rf__max_depth': None, 'rf__n_estimators': 200}\n",
      "0.734\n"
     ]
    }
   ],
   "source": [
    "pipe = Pipeline([('cvec', CountVectorizer()),('rf', RandomForestClassifier())])\n",
    "\n",
    "pipe_params = {\n",
    "    'cvec__max_features':[1_000,2_000,3_000],\n",
    "    'cvec__ngram_range':[(1,1),(1,2),(1,3)],\n",
    "    'rf__n_estimators': [100, 150, 200],\n",
    "    'rf__max_depth': [None, 1, 2],    \n",
    "}\n",
    "\n",
    "gs = GridSearchCV(pipe, param_grid = pipe_params, cv = 5)\n",
    "gs.fit(X_train, y_train)\n",
    "print(gs.best_score_)\n",
    "print(gs.best_params_)\n",
    "print(gs.score(X_test, y_test))"
   ]
  },
  {
   "cell_type": "code",
   "execution_count": 46,
   "id": "d91148a1",
   "metadata": {},
   "outputs": [
    {
     "name": "stdout",
     "output_type": "stream",
     "text": [
      "0.6813333333333332\n",
      "{'rf__max_depth': None, 'rf__n_estimators': 150, 'tvec__max_features': 2000, 'tvec__ngram_range': (1, 3)}\n",
      "0.708\n"
     ]
    }
   ],
   "source": [
    "pipe = Pipeline([('tvec', TfidfVectorizer()),('rf', RandomForestClassifier())])\n",
    "\n",
    "pipe_params = {\n",
    "    'tvec__max_features':[1_000,2_000,3_000],\n",
    "    'tvec__ngram_range':[(1,1),(1,2),(1,3)],\n",
    "    'rf__n_estimators': [100, 150, 200],\n",
    "    'rf__max_depth': [None, 1, 2],    \n",
    "}\n",
    "\n",
    "gs = GridSearchCV(pipe, param_grid = pipe_params, cv = 5)\n",
    "gs.fit(X_train, y_train)\n",
    "print(gs.best_score_)\n",
    "print(gs.best_params_)\n",
    "print(gs.score(X_test, y_test))"
   ]
  },
  {
   "cell_type": "code",
   "execution_count": 47,
   "id": "86e3c395",
   "metadata": {},
   "outputs": [
    {
     "name": "stdout",
     "output_type": "stream",
     "text": [
      "0.678\n",
      "{'cvec__max_features': 3000, 'cvec__ngram_range': (1, 1), 'svc__class_weight': 'balanced', 'svc__max_iter': 20000}\n",
      "0.694\n"
     ]
    }
   ],
   "source": [
    "pgrid = {\"C\": np.linspace(0.0001, 2, 10)}\n",
    "pipe = Pipeline([('cvec', CountVectorizer()),('svc', LinearSVC())])\n",
    "\n",
    "pipe_params = {\n",
    "    'cvec__max_features':[1_000,2_000,3_000],\n",
    "    'cvec__ngram_range':[(1,1),(1,2),(1,3)],\n",
    "    'svc__max_iter': [20_000],\n",
    "    'svc__class_weight': ['balanced'],    \n",
    "}\n",
    "\n",
    "cv = StratifiedKFold(n_splits=5, shuffle=True, random_state=42)\n",
    "\n",
    "gs = GridSearchCV(pipe, param_grid = pipe_params, cv = cv)\n",
    "gs.fit(X_train, y_train)\n",
    "print(gs.best_score_)\n",
    "print(gs.best_params_)\n",
    "print(gs.score(X_test, y_test))"
   ]
  },
  {
   "cell_type": "code",
   "execution_count": 48,
   "id": "da78da02",
   "metadata": {},
   "outputs": [
    {
     "name": "stdout",
     "output_type": "stream",
     "text": [
      "0.6893333333333332\n",
      "{'svc__class_weight': 'balanced', 'svc__max_iter': 20000, 'tvec__max_features': 3000, 'tvec__ngram_range': (1, 1)}\n",
      "0.704\n"
     ]
    }
   ],
   "source": [
    "pgrid = {\"C\": np.linspace(0.0001, 2, 10)}\n",
    "pipe = Pipeline([('tvec', TfidfVectorizer()),('svc', LinearSVC())])\n",
    "\n",
    "pipe_params = {\n",
    "    'tvec__max_features':[1_000,2_000,3_000],\n",
    "    'tvec__ngram_range':[(1,1),(1,2),(1,3)],\n",
    "    'svc__max_iter': [20_000],\n",
    "    'svc__class_weight': ['balanced'],    \n",
    "}\n",
    "\n",
    "cv = StratifiedKFold(n_splits=5, shuffle=True, random_state=42)\n",
    "\n",
    "gs = GridSearchCV(pipe, param_grid = pipe_params, cv = cv)\n",
    "gs.fit(X_train, y_train)\n",
    "print(gs.best_score_)\n",
    "print(gs.best_params_)\n",
    "print(gs.score(X_test, y_test))"
   ]
  },
  {
   "cell_type": "code",
   "execution_count": 49,
   "id": "a3137f2c",
   "metadata": {},
   "outputs": [
    {
     "name": "stdout",
     "output_type": "stream",
     "text": [
      "0.6986666666666667\n",
      "{'cvec__max_features': 4000, 'cvec__ngram_range': (1, 1)}\n",
      "0.724\n"
     ]
    }
   ],
   "source": [
    "pipe = Pipeline([('cvec', CountVectorizer()),('logreg', LogisticRegression())])\n",
    "\n",
    "pipe_params = {\n",
    "    'cvec__max_features':[1_000,2_000,3_000,4_000,5_000],\n",
    "    'cvec__ngram_range':[(1,1),(1,2),(1,3),(2,2),(2,3),(3,3)]\n",
    "    }\n",
    "\n",
    "gs = GridSearchCV(pipe, param_grid = pipe_params, cv = 5)\n",
    "gs.fit(X_train, y_train)\n",
    "print(gs.best_score_)\n",
    "print(gs.best_params_)\n",
    "print(gs.score(X_test, y_test))"
   ]
  },
  {
   "cell_type": "code",
   "execution_count": 50,
   "id": "7d0181ef",
   "metadata": {},
   "outputs": [
    {
     "name": "stdout",
     "output_type": "stream",
     "text": [
      "0.7013333333333334\n",
      "{'tvec__max_features': 3000, 'tvec__ngram_range': (1, 1)}\n",
      "0.734\n"
     ]
    }
   ],
   "source": [
    "pipe = Pipeline([('tvec', TfidfVectorizer()),('logreg', LogisticRegression())])\n",
    "\n",
    "pipe_params = {\n",
    "    'tvec__max_features':[1_000,2_000,3_000,4_000,5_000],\n",
    "    'tvec__ngram_range':[(1,1),(1,2),(1,3),(2,2),(2,3),(3,3)]\n",
    "    }\n",
    "\n",
    "gs = GridSearchCV(pipe, param_grid = pipe_params, cv = 5)\n",
    "gs.fit(X_train, y_train)\n",
    "print(gs.best_score_)\n",
    "print(gs.best_params_)\n",
    "print(gs.score(X_test, y_test))"
   ]
  },
  {
   "cell_type": "code",
   "execution_count": null,
   "id": "b381443e",
   "metadata": {},
   "outputs": [],
   "source": []
  }
 ],
 "metadata": {
  "kernelspec": {
   "display_name": "Python 3",
   "language": "python",
   "name": "python3"
  },
  "language_info": {
   "codemirror_mode": {
    "name": "ipython",
    "version": 3
   },
   "file_extension": ".py",
   "mimetype": "text/x-python",
   "name": "python",
   "nbconvert_exporter": "python",
   "pygments_lexer": "ipython3",
   "version": "3.8.8"
  }
 },
 "nbformat": 4,
 "nbformat_minor": 5
}
