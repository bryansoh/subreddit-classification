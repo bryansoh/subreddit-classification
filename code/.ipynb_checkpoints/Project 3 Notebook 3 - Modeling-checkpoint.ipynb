{
 "cells": [
  {
   "cell_type": "code",
   "execution_count": 1,
   "id": "8cfaf75a",
   "metadata": {},
   "outputs": [],
   "source": [
    "import pandas as pd\n",
    "import numpy as np\n",
    "import matplotlib.pyplot as plt\n",
    "from sklearn.model_selection import train_test_split, GridSearchCV, cross_val_score, StratifiedKFold\n",
    "from sklearn.pipeline import Pipeline\n",
    "from sklearn.naive_bayes import MultinomialNB\n",
    "from sklearn.metrics import confusion_matrix, plot_confusion_matrix, roc_auc_score\n",
    "from sklearn.ensemble import RandomForestClassifier\n",
    "from sklearn.svm import LinearSVC, SVC\n",
    "from sklearn.linear_model import LogisticRegression\n",
    "from sklearn.metrics import confusion_matrix, ConfusionMatrixDisplay, precision_score, recall_score, f1_score, accuracy_score\n",
    "from sklearn.dummy import DummyClassifier\n",
    "from sklearn.feature_extraction.text import CountVectorizer, TfidfVectorizer\n",
    "import seaborn as sns\n",
    "pd.set_option('display.max_colwidth', None)"
   ]
  },
  {
   "cell_type": "markdown",
   "id": "9a10f8d4",
   "metadata": {},
   "source": [
    "## Notebook 3 - Modeling\n",
    "\n",
    "This is the last of 3 notebooks for this project.\n",
    "\n",
    "In this notebook, I will:\n",
    "- Combine the data from the 2 csv files\n",
    "- Train test split the data\n",
    "- Train multiple classification models using 2 types of vectorizers \n",
    "- Evaluate model performance\n",
    "- Conclude and suggest potential next steps"
   ]
  },
  {
   "cell_type": "markdown",
   "id": "3c382a61",
   "metadata": {},
   "source": [
    "----\n",
    "## Load Data"
   ]
  },
  {
   "cell_type": "code",
   "execution_count": 2,
   "id": "93f78415",
   "metadata": {},
   "outputs": [],
   "source": [
    "theonion_df = pd.read_csv('../data/the_onion_lem.csv')\n",
    "nottheonion_df = pd.read_csv('../data/not_the_onion_lem.csv')"
   ]
  },
  {
   "cell_type": "markdown",
   "id": "5518aa42",
   "metadata": {},
   "source": [
    "Combining datasets of both subreddits"
   ]
  },
  {
   "cell_type": "code",
   "execution_count": 3,
   "id": "cde5c7b9",
   "metadata": {},
   "outputs": [],
   "source": [
    "theonion_df['onion'] = 1\n",
    "nottheonion_df['onion'] = 0"
   ]
  },
  {
   "cell_type": "code",
   "execution_count": 4,
   "id": "eb71b34a",
   "metadata": {},
   "outputs": [
    {
     "data": {
      "text/html": [
       "<div>\n",
       "<style scoped>\n",
       "    .dataframe tbody tr th:only-of-type {\n",
       "        vertical-align: middle;\n",
       "    }\n",
       "\n",
       "    .dataframe tbody tr th {\n",
       "        vertical-align: top;\n",
       "    }\n",
       "\n",
       "    .dataframe thead th {\n",
       "        text-align: right;\n",
       "    }\n",
       "</style>\n",
       "<table border=\"1\" class=\"dataframe\">\n",
       "  <thead>\n",
       "    <tr style=\"text-align: right;\">\n",
       "      <th></th>\n",
       "      <th>lem_title</th>\n",
       "      <th>onion</th>\n",
       "    </tr>\n",
       "  </thead>\n",
       "  <tbody>\n",
       "    <tr>\n",
       "      <th>0</th>\n",
       "      <td>abby lee miller cancer</td>\n",
       "      <td>1</td>\n",
       "    </tr>\n",
       "    <tr>\n",
       "      <th>1</th>\n",
       "      <td>amazon celebrates union defeat raising price 150 anyway</td>\n",
       "      <td>1</td>\n",
       "    </tr>\n",
       "    <tr>\n",
       "      <th>2</th>\n",
       "      <td>new arkansas bill would require teen resident keep genitals full display time</td>\n",
       "      <td>1</td>\n",
       "    </tr>\n",
       "    <tr>\n",
       "      <th>3</th>\n",
       "      <td>way prevent say nation regularly happens</td>\n",
       "      <td>1</td>\n",
       "    </tr>\n",
       "    <tr>\n",
       "      <th>4</th>\n",
       "      <td>panther adopt patchy haired shivering rescue qb spent year abused jet</td>\n",
       "      <td>1</td>\n",
       "    </tr>\n",
       "  </tbody>\n",
       "</table>\n",
       "</div>"
      ],
      "text/plain": [
       "                                                                       lem_title  \\\n",
       "0                                                         abby lee miller cancer   \n",
       "1                        amazon celebrates union defeat raising price 150 anyway   \n",
       "2  new arkansas bill would require teen resident keep genitals full display time   \n",
       "3                                       way prevent say nation regularly happens   \n",
       "4          panther adopt patchy haired shivering rescue qb spent year abused jet   \n",
       "\n",
       "   onion  \n",
       "0      1  \n",
       "1      1  \n",
       "2      1  \n",
       "3      1  \n",
       "4      1  "
      ]
     },
     "execution_count": 4,
     "metadata": {},
     "output_type": "execute_result"
    }
   ],
   "source": [
    "combined_df = pd.concat(objs = [theonion_df,nottheonion_df])\n",
    "combined_df[['lem_title','onion']].head()"
   ]
  },
  {
   "cell_type": "code",
   "execution_count": 5,
   "id": "b84be460",
   "metadata": {},
   "outputs": [
    {
     "data": {
      "text/html": [
       "<div>\n",
       "<style scoped>\n",
       "    .dataframe tbody tr th:only-of-type {\n",
       "        vertical-align: middle;\n",
       "    }\n",
       "\n",
       "    .dataframe tbody tr th {\n",
       "        vertical-align: top;\n",
       "    }\n",
       "\n",
       "    .dataframe thead th {\n",
       "        text-align: right;\n",
       "    }\n",
       "</style>\n",
       "<table border=\"1\" class=\"dataframe\">\n",
       "  <thead>\n",
       "    <tr style=\"text-align: right;\">\n",
       "      <th></th>\n",
       "      <th>lem_title</th>\n",
       "      <th>onion</th>\n",
       "    </tr>\n",
       "  </thead>\n",
       "  <tbody>\n",
       "    <tr>\n",
       "      <th>995</th>\n",
       "      <td>call thespian actor say nicolas cage</td>\n",
       "      <td>0</td>\n",
       "    </tr>\n",
       "    <tr>\n",
       "      <th>996</th>\n",
       "      <td>giuffre lawyer seek detail prince andrew claimed inability sweat</td>\n",
       "      <td>0</td>\n",
       "    </tr>\n",
       "    <tr>\n",
       "      <th>997</th>\n",
       "      <td>betty white dead 99</td>\n",
       "      <td>0</td>\n",
       "    </tr>\n",
       "    <tr>\n",
       "      <th>998</th>\n",
       "      <td>central texas red cross sending least one volunteer colorado devastating fire</td>\n",
       "      <td>0</td>\n",
       "    </tr>\n",
       "    <tr>\n",
       "      <th>999</th>\n",
       "      <td>virginia giuffre lawyer demand proof prince andrew sweat</td>\n",
       "      <td>0</td>\n",
       "    </tr>\n",
       "  </tbody>\n",
       "</table>\n",
       "</div>"
      ],
      "text/plain": [
       "                                                                         lem_title  \\\n",
       "995                                           call thespian actor say nicolas cage   \n",
       "996               giuffre lawyer seek detail prince andrew claimed inability sweat   \n",
       "997                                                            betty white dead 99   \n",
       "998  central texas red cross sending least one volunteer colorado devastating fire   \n",
       "999                       virginia giuffre lawyer demand proof prince andrew sweat   \n",
       "\n",
       "     onion  \n",
       "995      0  \n",
       "996      0  \n",
       "997      0  \n",
       "998      0  \n",
       "999      0  "
      ]
     },
     "execution_count": 5,
     "metadata": {},
     "output_type": "execute_result"
    }
   ],
   "source": [
    "combined_df[['lem_title','onion']].tail()"
   ]
  },
  {
   "cell_type": "markdown",
   "id": "9f39285d",
   "metadata": {},
   "source": [
    "----\n",
    "## Split the data into train and test datasets"
   ]
  },
  {
   "cell_type": "code",
   "execution_count": 6,
   "id": "1f47df5f",
   "metadata": {},
   "outputs": [],
   "source": [
    "X = combined_df['lem_title']\n",
    "y = combined_df['onion']\n",
    "\n",
    "X_train, X_test, y_train, y_test = train_test_split(X, y, stratify = y, random_state=42)"
   ]
  },
  {
   "cell_type": "code",
   "execution_count": 7,
   "id": "4ce3085b",
   "metadata": {},
   "outputs": [],
   "source": [
    "#instantiate a list to store model results\n",
    "results = []"
   ]
  },
  {
   "cell_type": "markdown",
   "id": "25c3cf2a",
   "metadata": {},
   "source": [
    "----\n",
    "## Vectorize data before data modeling\n",
    "To prepare the text information for the machine learning model, a vectorizer is used before the data is used for model fitting and learning.\n",
    "\n",
    "In this project, 2 types of Vectorizers will be used for each type of machine learning model.\n",
    "\n",
    "1) **Count Vectorizer:**\n",
    "Counts how many times a token is observed in the selected text. Then, create a column for each unique token to store the counts.\n",
    "\n",
    "2) **TFIDF Vectorizer:**\n",
    "TFIDF stands for Term Frequency Inverse Document Frequency. It basically makes use of the property that words that are rare across some texts but are common across others are helpful in modeling."
   ]
  },
  {
   "cell_type": "markdown",
   "id": "3afc42c6",
   "metadata": {},
   "source": [
    "----\n",
    "## Data Modeling\n",
    "\n",
    "### Baseline Model\n",
    "\n",
    "The Dummy Classifier makes predictions that ignore the input features and is normally used as a baseline comparison to more complex classifier models."
   ]
  },
  {
   "cell_type": "code",
   "execution_count": 8,
   "id": "79b5faeb",
   "metadata": {},
   "outputs": [
    {
     "name": "stdout",
     "output_type": "stream",
     "text": [
      "0.5\n",
      "{'cvec__max_features': 1000, 'cvec__ngram_range': (1, 1)}\n",
      "0.5\n",
      "0.5\n",
      "Wall time: 4.49 s\n"
     ]
    }
   ],
   "source": [
    "%%time\n",
    "pipe = Pipeline([('cvec', CountVectorizer()),('baseline', DummyClassifier(strategy=\"most_frequent\",random_state=42))])\n",
    "\n",
    "pipe_params = {\n",
    "    'cvec__max_features':[1_000,2_000,3_000,4_000,5_000],\n",
    "    'cvec__ngram_range':[(1,1),(1,2),(1,3),(2,2),(2,3),(3,3)]\n",
    "}\n",
    "\n",
    "cvec_baseline_gs = GridSearchCV(pipe, param_grid = pipe_params, cv = 5)\n",
    "cvec_baseline_gs.fit(X_train, y_train)\n",
    "print(cvec_baseline_gs.best_score_)\n",
    "print(cvec_baseline_gs.best_params_)\n",
    "print(cvec_baseline_gs.score(X_train, y_train))\n",
    "print(cvec_baseline_gs.score(X_test, y_test))\n",
    "\n",
    "cvec_baseline = []\n",
    "cvec_baseline.append('cvec_baseline')\n",
    "cvec_baseline.append(cvec_baseline_gs.score(X_train, y_train))\n",
    "cvec_baseline.append(cvec_baseline_gs.score(X_test, y_test))\n",
    "cvec_baseline.append(cvec_baseline_gs.best_score_)\n",
    "cvec_baseline.append(cvec_baseline_gs.best_params_['cvec__max_features'])\n",
    "cvec_baseline.append(cvec_baseline_gs.best_params_['cvec__ngram_range'])\n",
    "results.append(cvec_baseline)"
   ]
  },
  {
   "cell_type": "code",
   "execution_count": 9,
   "id": "2a19c8a5",
   "metadata": {},
   "outputs": [
    {
     "name": "stdout",
     "output_type": "stream",
     "text": [
      "0.5\n",
      "{'tvec__max_features': 1000, 'tvec__ngram_range': (1, 1)}\n",
      "0.5\n",
      "0.5\n",
      "Wall time: 4.33 s\n"
     ]
    }
   ],
   "source": [
    "%%time\n",
    "pipe = Pipeline([('tvec', TfidfVectorizer()),('baseline', DummyClassifier(strategy=\"most_frequent\",random_state=42))])\n",
    "\n",
    "pipe_params = {\n",
    "    'tvec__max_features':[1_000,2_000,3_000,4_000,5_000],\n",
    "    'tvec__ngram_range':[(1,1),(1,2),(1,3),(2,2),(2,3),(3,3)]\n",
    "}\n",
    "\n",
    "tvec_baseline_gs = GridSearchCV(pipe, param_grid = pipe_params, cv = 5)\n",
    "tvec_baseline_gs.fit(X_train, y_train)\n",
    "print(tvec_baseline_gs.best_score_)\n",
    "print(tvec_baseline_gs.best_params_)\n",
    "print(tvec_baseline_gs.score(X_train, y_train))\n",
    "print(tvec_baseline_gs.score(X_test, y_test))\n",
    "\n",
    "tvec_baseline = []\n",
    "tvec_baseline.append('tvec_baseline')\n",
    "tvec_baseline.append(tvec_baseline_gs.score(X_train, y_train))\n",
    "tvec_baseline.append(tvec_baseline_gs.score(X_test, y_test))\n",
    "tvec_baseline.append(tvec_baseline_gs.best_score_)\n",
    "tvec_baseline.append(tvec_baseline_gs.best_params_['tvec__max_features'])\n",
    "tvec_baseline.append(tvec_baseline_gs.best_params_['tvec__ngram_range'])\n",
    "results.append(tvec_baseline)"
   ]
  },
  {
   "cell_type": "markdown",
   "id": "d729648d",
   "metadata": {},
   "source": [
    "### Multinomial Naive Bayes Model\n",
    "\n",
    "The Naive Bayes model makes the naive assumption that all features in the data are independent of one another. \n",
    "\n",
    "Depending on the properties of the features, there are different types of Naive Bayes models that can be used. Such as Bernoulli Naive Bayes, Multinomial Naive Bayes and Gaussian Naive Bayes.\n",
    "\n",
    "In this case, as the vectorizers will produce variables that are positive integers, the Multinomial Naive Bayes model is used."
   ]
  },
  {
   "cell_type": "code",
   "execution_count": 10,
   "id": "554d9817",
   "metadata": {},
   "outputs": [
    {
     "name": "stdout",
     "output_type": "stream",
     "text": [
      "0.7040000000000001\n",
      "{'cvec__max_features': 4000, 'cvec__ngram_range': (1, 1)}\n",
      "0.9626666666666667\n",
      "0.734\n",
      "Wall time: 3.77 s\n"
     ]
    }
   ],
   "source": [
    "%%time\n",
    "pipe = Pipeline([('cvec', CountVectorizer()),('nb', MultinomialNB())])\n",
    "\n",
    "pipe_params = {\n",
    "    'cvec__max_features':[1_000,2_000,3_000,4_000,5_000],\n",
    "    'cvec__ngram_range':[(1,1),(1,2),(1,3),(2,2),(2,3),(3,3)]\n",
    "}\n",
    "\n",
    "cvec_nb_gs = GridSearchCV(pipe, param_grid = pipe_params, cv = 5)\n",
    "cvec_nb_gs.fit(X_train, y_train)\n",
    "print(cvec_nb_gs.best_score_)\n",
    "print(cvec_nb_gs.best_params_)\n",
    "print(cvec_nb_gs.score(X_train, y_train))\n",
    "print(cvec_nb_gs.score(X_test, y_test))\n",
    "\n",
    "cvec_nb = []\n",
    "cvec_nb.append('cvec_nb')\n",
    "cvec_nb.append(cvec_nb_gs.score(X_train, y_train))\n",
    "cvec_nb.append(cvec_nb_gs.score(X_test, y_test))\n",
    "cvec_nb.append(cvec_nb_gs.best_score_)\n",
    "cvec_nb.append(cvec_nb_gs.best_params_['cvec__max_features'])\n",
    "cvec_nb.append(cvec_nb_gs.best_params_['cvec__ngram_range'])\n",
    "results.append(cvec_nb)"
   ]
  },
  {
   "cell_type": "code",
   "execution_count": 11,
   "id": "89e68602",
   "metadata": {},
   "outputs": [
    {
     "name": "stdout",
     "output_type": "stream",
     "text": [
      "0.7066666666666667\n",
      "{'tvec__max_features': 5000, 'tvec__ngram_range': (1, 1)}\n",
      "0.9806666666666667\n",
      "0.76\n",
      "Wall time: 5.42 s\n"
     ]
    }
   ],
   "source": [
    "%%time\n",
    "pipe = Pipeline([('tvec', TfidfVectorizer()),('nb', MultinomialNB())])\n",
    "\n",
    "pipe_params = {\n",
    "    'tvec__max_features':[1_000,2_000,3_000,4_000,5_000,6_000,7_000],\n",
    "    'tvec__ngram_range':[(1,1),(1,2),(1,3),(2,2),(2,3),(3,3)]\n",
    "}\n",
    "\n",
    "tvec_nb_gs = GridSearchCV(pipe, param_grid = pipe_params, cv = 5)\n",
    "tvec_nb_gs.fit(X_train, y_train)\n",
    "print(tvec_nb_gs.best_score_)\n",
    "print(tvec_nb_gs.best_params_)\n",
    "print(tvec_nb_gs.score(X_train, y_train))\n",
    "print(tvec_nb_gs.score(X_test, y_test))\n",
    "\n",
    "tvec_nb = []\n",
    "tvec_nb.append('tvec_nb')\n",
    "tvec_nb.append(tvec_nb_gs.score(X_train, y_train))\n",
    "tvec_nb.append(tvec_nb_gs.score(X_test, y_test))\n",
    "tvec_nb.append(tvec_nb_gs.best_score_)\n",
    "tvec_nb.append(tvec_nb_gs.best_params_['tvec__max_features'])\n",
    "tvec_nb.append(tvec_nb_gs.best_params_['tvec__ngram_range'])\n",
    "results.append(tvec_nb)"
   ]
  },
  {
   "cell_type": "markdown",
   "id": "8dcff986",
   "metadata": {},
   "source": [
    "### Random Forest Model\n",
    "\n",
    "The Random Forest Model is a type of ensemble model. By bootstrapping the data (taking random samples of the same size with replacement), it generates multiple decision tree models. \n",
    "\n",
    "Due to bootstrap samples being generated from the same original data, the decision trees are highly correlated. To counter this correlation between base trees, the Random Forest model uses the random subspace method. This means that at each split in the learning process of the decision trees, a random subset of features is selected instead of using all of them. \n",
    "\n",
    "Less correlation between trees means a stronger model."
   ]
  },
  {
   "cell_type": "code",
   "execution_count": 12,
   "id": "2bdc4fb4",
   "metadata": {},
   "outputs": [
    {
     "name": "stdout",
     "output_type": "stream",
     "text": [
      "0.6873333333333334\n",
      "{'cvec__max_features': 2000, 'cvec__ngram_range': (1, 3), 'rf__max_depth': None, 'rf__n_estimators': 150}\n",
      "0.9946666666666667\n",
      "0.734\n",
      "Wall time: 1min 31s\n"
     ]
    }
   ],
   "source": [
    "%%time\n",
    "pipe = Pipeline([('cvec', CountVectorizer()),('rf', RandomForestClassifier(random_state=42))])\n",
    "\n",
    "pipe_params = {\n",
    "    'cvec__max_features':[1_000,2_000,3_000],\n",
    "    'cvec__ngram_range':[(1,1),(1,2),(1,3)],\n",
    "    'rf__n_estimators': [100, 150, 200],\n",
    "    'rf__max_depth': [None, 1, 2],    \n",
    "}\n",
    "\n",
    "cvec_rf_gs = GridSearchCV(pipe, param_grid = pipe_params, cv = 5)\n",
    "cvec_rf_gs.fit(X_train, y_train)\n",
    "print(cvec_rf_gs.best_score_)\n",
    "print(cvec_rf_gs.best_params_)\n",
    "print(cvec_rf_gs.score(X_train, y_train))\n",
    "print(cvec_rf_gs.score(X_test, y_test))\n",
    "\n",
    "cvec_rf = []\n",
    "cvec_rf.append('cvec_rf')\n",
    "cvec_rf.append(cvec_rf_gs.score(X_train, y_train))\n",
    "cvec_rf.append(cvec_rf_gs.score(X_test, y_test))\n",
    "cvec_rf.append(cvec_rf_gs.best_score_)\n",
    "cvec_rf.append(cvec_rf_gs.best_params_['cvec__max_features'])\n",
    "cvec_rf.append(cvec_rf_gs.best_params_['cvec__ngram_range'])\n",
    "results.append(cvec_rf)"
   ]
  },
  {
   "cell_type": "code",
   "execution_count": 13,
   "id": "d91148a1",
   "metadata": {},
   "outputs": [
    {
     "name": "stdout",
     "output_type": "stream",
     "text": [
      "0.6833333333333332\n",
      "{'rf__max_depth': None, 'rf__n_estimators': 200, 'tvec__max_features': 2000, 'tvec__ngram_range': (1, 3)}\n",
      "0.9946666666666667\n",
      "0.72\n",
      "Wall time: 1min 31s\n"
     ]
    }
   ],
   "source": [
    "%%time\n",
    "pipe = Pipeline([('tvec', TfidfVectorizer()),('rf', RandomForestClassifier(random_state=42))])\n",
    "\n",
    "pipe_params = {\n",
    "    'tvec__max_features':[1_000,2_000,3_000],\n",
    "    'tvec__ngram_range':[(1,1),(1,2),(1,3)],\n",
    "    'rf__n_estimators': [100, 150, 200],\n",
    "    'rf__max_depth': [None, 1, 2],    \n",
    "}\n",
    "\n",
    "tvec_rf_gs = GridSearchCV(pipe, param_grid = pipe_params, cv = 5)\n",
    "tvec_rf_gs.fit(X_train, y_train)\n",
    "print(tvec_rf_gs.best_score_)\n",
    "print(tvec_rf_gs.best_params_)\n",
    "print(tvec_rf_gs.score(X_train, y_train))\n",
    "print(tvec_rf_gs.score(X_test, y_test))\n",
    "\n",
    "tvec_rf = []\n",
    "tvec_rf.append('tvec_rf')\n",
    "tvec_rf.append(tvec_rf_gs.score(X_train, y_train))\n",
    "tvec_rf.append(tvec_rf_gs.score(X_test, y_test))\n",
    "tvec_rf.append(tvec_rf_gs.best_score_)\n",
    "tvec_rf.append(tvec_rf_gs.best_params_['tvec__max_features'])\n",
    "tvec_rf.append(tvec_rf_gs.best_params_['tvec__ngram_range'])\n",
    "results.append(tvec_rf)"
   ]
  },
  {
   "cell_type": "markdown",
   "id": "9b31c8b1",
   "metadata": {},
   "source": [
    "## Support Vector Machines (SVM)\n",
    "SVM tries to plot a separating hyperplane between datapoints of different classes. The best separating hyperplane is the one that creates the maximal margin (widest space around which there are no datapoints inside). The points touching the margin exactly are called support vectors.\n",
    "\n",
    "SVM has been widely used historically and is generally effective in high dimensional data. However, the drawback is that this is generally a blackbox method with low interpretability."
   ]
  },
  {
   "cell_type": "code",
   "execution_count": 14,
   "id": "86e3c395",
   "metadata": {},
   "outputs": [
    {
     "name": "stdout",
     "output_type": "stream",
     "text": [
      "0.678\n",
      "{'cvec__max_features': 3000, 'cvec__ngram_range': (1, 1), 'svc__class_weight': 'balanced', 'svc__max_iter': 20000}\n",
      "0.9986666666666667\n",
      "0.694\n",
      "Wall time: 1.42 s\n"
     ]
    }
   ],
   "source": [
    "%%time\n",
    "pgrid = {\"C\": np.linspace(0.0001, 2, 10)}\n",
    "pipe = Pipeline([('cvec', CountVectorizer()),('svc', LinearSVC())])\n",
    "\n",
    "pipe_params = {\n",
    "    'cvec__max_features':[1_000,2_000,3_000],\n",
    "    'cvec__ngram_range':[(1,1),(1,2),(1,3)],\n",
    "    'svc__max_iter': [20_000],\n",
    "    'svc__class_weight': ['balanced'],    \n",
    "}\n",
    "\n",
    "cv = StratifiedKFold(n_splits=5, shuffle=True, random_state=42)\n",
    "\n",
    "cvec_svc_gs = GridSearchCV(pipe, param_grid = pipe_params, cv = cv)\n",
    "cvec_svc_gs.fit(X_train, y_train)\n",
    "print(cvec_svc_gs.best_score_)\n",
    "print(cvec_svc_gs.best_params_)\n",
    "print(cvec_svc_gs.score(X_train, y_train))\n",
    "print(cvec_svc_gs.score(X_test, y_test))\n",
    "\n",
    "cvec_svc = []\n",
    "cvec_svc.append('cvec_svc')\n",
    "cvec_svc.append(cvec_svc_gs.score(X_train, y_train))\n",
    "cvec_svc.append(cvec_svc_gs.score(X_test, y_test))\n",
    "cvec_svc.append(cvec_svc_gs.best_score_)\n",
    "cvec_svc.append(cvec_svc_gs.best_params_['cvec__max_features'])\n",
    "cvec_svc.append(cvec_svc_gs.best_params_['cvec__ngram_range'])\n",
    "results.append(cvec_svc)"
   ]
  },
  {
   "cell_type": "code",
   "execution_count": 15,
   "id": "da78da02",
   "metadata": {},
   "outputs": [
    {
     "name": "stdout",
     "output_type": "stream",
     "text": [
      "0.6893333333333332\n",
      "{'svc__class_weight': 'balanced', 'svc__max_iter': 20000, 'tvec__max_features': 3000, 'tvec__ngram_range': (1, 1)}\n",
      "0.9966666666666667\n",
      "0.704\n",
      "Wall time: 1.33 s\n"
     ]
    }
   ],
   "source": [
    "%%time\n",
    "pgrid = {\"C\": np.linspace(0.0001, 2, 10)}\n",
    "pipe = Pipeline([('tvec', TfidfVectorizer()),('svc', LinearSVC())])\n",
    "\n",
    "pipe_params = {\n",
    "    'tvec__max_features':[1_000,2_000,3_000],\n",
    "    'tvec__ngram_range':[(1,1),(1,2),(1,3)],\n",
    "    'svc__max_iter': [20_000],\n",
    "    'svc__class_weight': ['balanced'],    \n",
    "}\n",
    "\n",
    "cv = StratifiedKFold(n_splits=5, shuffle=True, random_state=42)\n",
    "\n",
    "tvec_svc_gs = GridSearchCV(pipe, param_grid = pipe_params, cv = cv)\n",
    "tvec_svc_gs.fit(X_train, y_train)\n",
    "print(tvec_svc_gs.best_score_)\n",
    "print(tvec_svc_gs.best_params_)\n",
    "print(tvec_svc_gs.score(X_train, y_train))\n",
    "print(tvec_svc_gs.score(X_test, y_test))\n",
    "\n",
    "tvec_svc = []\n",
    "tvec_svc.append('tvec_svc')\n",
    "tvec_svc.append(tvec_svc_gs.score(X_train, y_train))\n",
    "tvec_svc.append(tvec_svc_gs.score(X_test, y_test))\n",
    "tvec_svc.append(tvec_svc_gs.best_score_)\n",
    "tvec_svc.append(tvec_svc_gs.best_params_['tvec__max_features'])\n",
    "tvec_svc.append(tvec_svc_gs.best_params_['tvec__ngram_range'])\n",
    "results.append(tvec_svc)"
   ]
  },
  {
   "cell_type": "markdown",
   "id": "80a2f5fe",
   "metadata": {},
   "source": [
    "## Logistic Regression\n",
    "\n",
    "Logistic Regression is a statistical model that uses a logistic function to model a binary dependent variable.\n",
    "\n",
    "The odds for probability p of an outcome happening is defined as p/(1-p) or probability of something happening divided by probability of something not happening. A log function is then applied to this to produce a value between 0 and 1. A decided threshold can then be used to classify if an observation should be class 0 or 1 depending on the value produced from the log function. This value is 0.5 by default."
   ]
  },
  {
   "cell_type": "code",
   "execution_count": 16,
   "id": "a3137f2c",
   "metadata": {},
   "outputs": [
    {
     "name": "stdout",
     "output_type": "stream",
     "text": [
      "0.6986666666666667\n",
      "{'cvec__max_features': 4000, 'cvec__ngram_range': (1, 1)}\n",
      "0.9906666666666667\n",
      "0.724\n",
      "Wall time: 5.69 s\n"
     ]
    }
   ],
   "source": [
    "%%time\n",
    "pipe = Pipeline([('cvec', CountVectorizer()),('logreg', LogisticRegression(random_state=42))])\n",
    "\n",
    "pipe_params = {\n",
    "    'cvec__max_features':[1_000,2_000,3_000,4_000,5_000],\n",
    "    'cvec__ngram_range':[(1,1),(1,2),(1,3),(2,2),(2,3),(3,3)]\n",
    "    }\n",
    "\n",
    "cvec_logreg_gs = GridSearchCV(pipe, param_grid = pipe_params, cv = 5)\n",
    "cvec_logreg_gs.fit(X_train, y_train)\n",
    "print(cvec_logreg_gs.best_score_)\n",
    "print(cvec_logreg_gs.best_params_)\n",
    "print(cvec_logreg_gs.score(X_train, y_train))\n",
    "print(cvec_logreg_gs.score(X_test, y_test))\n",
    "\n",
    "cvec_lr = []\n",
    "cvec_lr.append('cvec_logreg')\n",
    "cvec_lr.append(cvec_logreg_gs.score(X_train, y_train))\n",
    "cvec_lr.append(cvec_logreg_gs.score(X_test, y_test))\n",
    "cvec_lr.append(cvec_logreg_gs.best_score_)\n",
    "cvec_lr.append(cvec_logreg_gs.best_params_['cvec__max_features'])\n",
    "cvec_lr.append(cvec_logreg_gs.best_params_['cvec__ngram_range'])\n",
    "results.append(cvec_lr)"
   ]
  },
  {
   "cell_type": "code",
   "execution_count": 17,
   "id": "7d0181ef",
   "metadata": {},
   "outputs": [
    {
     "name": "stdout",
     "output_type": "stream",
     "text": [
      "0.7013333333333334\n",
      "{'tvec__max_features': 3000, 'tvec__ngram_range': (1, 1)}\n",
      "0.9573333333333334\n",
      "0.734\n",
      "Wall time: 5.37 s\n"
     ]
    }
   ],
   "source": [
    "%%time\n",
    "pipe = Pipeline([('tvec', TfidfVectorizer()),('logreg', LogisticRegression(random_state=42))])\n",
    "\n",
    "pipe_params = {\n",
    "    'tvec__max_features':[1_000,2_000,3_000,4_000,5_000],\n",
    "    'tvec__ngram_range':[(1,1),(1,2),(1,3),(2,2),(2,3),(3,3)]\n",
    "    }\n",
    "\n",
    "tvec_logreg_gs = GridSearchCV(pipe, param_grid = pipe_params, cv = 5)\n",
    "tvec_logreg_gs.fit(X_train, y_train)\n",
    "print(tvec_logreg_gs.best_score_)\n",
    "print(tvec_logreg_gs.best_params_)\n",
    "print(tvec_logreg_gs.score(X_train, y_train))\n",
    "print(tvec_logreg_gs.score(X_test, y_test))\n",
    "\n",
    "tvec_lr = []\n",
    "tvec_lr.append('tvec_logreg')\n",
    "tvec_lr.append(tvec_logreg_gs.score(X_train, y_train))\n",
    "tvec_lr.append(tvec_logreg_gs.score(X_test, y_test))\n",
    "tvec_lr.append(tvec_logreg_gs.best_score_)\n",
    "tvec_lr.append(tvec_logreg_gs.best_params_['tvec__max_features'])\n",
    "tvec_lr.append(tvec_logreg_gs.best_params_['tvec__ngram_range'])\n",
    "results.append(tvec_lr)"
   ]
  },
  {
   "cell_type": "markdown",
   "id": "7aabffbc",
   "metadata": {},
   "source": [
    "----\n",
    "## Model Selection\n",
    "\n",
    "The models are named in the form of vectorizer_model. E.g. tvec_nb means TFIDF Vectorizer into Multinomial Naive Bayes."
   ]
  },
  {
   "cell_type": "code",
   "execution_count": 18,
   "id": "fd825f77",
   "metadata": {},
   "outputs": [
    {
     "data": {
      "text/html": [
       "<div>\n",
       "<style scoped>\n",
       "    .dataframe tbody tr th:only-of-type {\n",
       "        vertical-align: middle;\n",
       "    }\n",
       "\n",
       "    .dataframe tbody tr th {\n",
       "        vertical-align: top;\n",
       "    }\n",
       "\n",
       "    .dataframe thead th {\n",
       "        text-align: right;\n",
       "    }\n",
       "</style>\n",
       "<table border=\"1\" class=\"dataframe\">\n",
       "  <thead>\n",
       "    <tr style=\"text-align: right;\">\n",
       "      <th></th>\n",
       "      <th>Model</th>\n",
       "      <th>Train Accuracy Score</th>\n",
       "      <th>Test Accuracy Score</th>\n",
       "      <th>Cross Validation Score</th>\n",
       "      <th>Max Features</th>\n",
       "      <th>Ngram Range</th>\n",
       "    </tr>\n",
       "  </thead>\n",
       "  <tbody>\n",
       "    <tr>\n",
       "      <th>0</th>\n",
       "      <td>cvec_baseline</td>\n",
       "      <td>0.500000</td>\n",
       "      <td>0.500</td>\n",
       "      <td>0.500000</td>\n",
       "      <td>1000</td>\n",
       "      <td>(1, 1)</td>\n",
       "    </tr>\n",
       "    <tr>\n",
       "      <th>1</th>\n",
       "      <td>tvec_baseline</td>\n",
       "      <td>0.500000</td>\n",
       "      <td>0.500</td>\n",
       "      <td>0.500000</td>\n",
       "      <td>1000</td>\n",
       "      <td>(1, 1)</td>\n",
       "    </tr>\n",
       "    <tr>\n",
       "      <th>2</th>\n",
       "      <td>cvec_nb</td>\n",
       "      <td>0.962667</td>\n",
       "      <td>0.734</td>\n",
       "      <td>0.704000</td>\n",
       "      <td>4000</td>\n",
       "      <td>(1, 1)</td>\n",
       "    </tr>\n",
       "    <tr>\n",
       "      <th>3</th>\n",
       "      <td>tvec_nb</td>\n",
       "      <td>0.980667</td>\n",
       "      <td>0.760</td>\n",
       "      <td>0.706667</td>\n",
       "      <td>5000</td>\n",
       "      <td>(1, 1)</td>\n",
       "    </tr>\n",
       "    <tr>\n",
       "      <th>4</th>\n",
       "      <td>cvec_rf</td>\n",
       "      <td>0.994667</td>\n",
       "      <td>0.734</td>\n",
       "      <td>0.687333</td>\n",
       "      <td>2000</td>\n",
       "      <td>(1, 3)</td>\n",
       "    </tr>\n",
       "    <tr>\n",
       "      <th>5</th>\n",
       "      <td>tvec_rf</td>\n",
       "      <td>0.994667</td>\n",
       "      <td>0.720</td>\n",
       "      <td>0.683333</td>\n",
       "      <td>2000</td>\n",
       "      <td>(1, 3)</td>\n",
       "    </tr>\n",
       "    <tr>\n",
       "      <th>6</th>\n",
       "      <td>cvec_svc</td>\n",
       "      <td>0.998667</td>\n",
       "      <td>0.694</td>\n",
       "      <td>0.678000</td>\n",
       "      <td>3000</td>\n",
       "      <td>(1, 1)</td>\n",
       "    </tr>\n",
       "    <tr>\n",
       "      <th>7</th>\n",
       "      <td>tvec_svc</td>\n",
       "      <td>0.996667</td>\n",
       "      <td>0.704</td>\n",
       "      <td>0.689333</td>\n",
       "      <td>3000</td>\n",
       "      <td>(1, 1)</td>\n",
       "    </tr>\n",
       "    <tr>\n",
       "      <th>8</th>\n",
       "      <td>cvec_logreg</td>\n",
       "      <td>0.990667</td>\n",
       "      <td>0.724</td>\n",
       "      <td>0.698667</td>\n",
       "      <td>4000</td>\n",
       "      <td>(1, 1)</td>\n",
       "    </tr>\n",
       "    <tr>\n",
       "      <th>9</th>\n",
       "      <td>tvec_logreg</td>\n",
       "      <td>0.957333</td>\n",
       "      <td>0.734</td>\n",
       "      <td>0.701333</td>\n",
       "      <td>3000</td>\n",
       "      <td>(1, 1)</td>\n",
       "    </tr>\n",
       "  </tbody>\n",
       "</table>\n",
       "</div>"
      ],
      "text/plain": [
       "           Model  Train Accuracy Score  Test Accuracy Score  \\\n",
       "0  cvec_baseline              0.500000                0.500   \n",
       "1  tvec_baseline              0.500000                0.500   \n",
       "2        cvec_nb              0.962667                0.734   \n",
       "3        tvec_nb              0.980667                0.760   \n",
       "4        cvec_rf              0.994667                0.734   \n",
       "5        tvec_rf              0.994667                0.720   \n",
       "6       cvec_svc              0.998667                0.694   \n",
       "7       tvec_svc              0.996667                0.704   \n",
       "8    cvec_logreg              0.990667                0.724   \n",
       "9    tvec_logreg              0.957333                0.734   \n",
       "\n",
       "   Cross Validation Score  Max Features Ngram Range  \n",
       "0                0.500000          1000      (1, 1)  \n",
       "1                0.500000          1000      (1, 1)  \n",
       "2                0.704000          4000      (1, 1)  \n",
       "3                0.706667          5000      (1, 1)  \n",
       "4                0.687333          2000      (1, 3)  \n",
       "5                0.683333          2000      (1, 3)  \n",
       "6                0.678000          3000      (1, 1)  \n",
       "7                0.689333          3000      (1, 1)  \n",
       "8                0.698667          4000      (1, 1)  \n",
       "9                0.701333          3000      (1, 1)  "
      ]
     },
     "execution_count": 18,
     "metadata": {},
     "output_type": "execute_result"
    }
   ],
   "source": [
    "results = pd.DataFrame(results, columns = ['Model','Train Accuracy Score','Test Accuracy Score', 'Cross Validation Score', 'Max Features','Ngram Range'])\n",
    "results"
   ]
  },
  {
   "cell_type": "code",
   "execution_count": 19,
   "id": "697bcc6e",
   "metadata": {},
   "outputs": [
    {
     "data": {
      "text/html": [
       "<div>\n",
       "<style scoped>\n",
       "    .dataframe tbody tr th:only-of-type {\n",
       "        vertical-align: middle;\n",
       "    }\n",
       "\n",
       "    .dataframe tbody tr th {\n",
       "        vertical-align: top;\n",
       "    }\n",
       "\n",
       "    .dataframe thead th {\n",
       "        text-align: right;\n",
       "    }\n",
       "</style>\n",
       "<table border=\"1\" class=\"dataframe\">\n",
       "  <thead>\n",
       "    <tr style=\"text-align: right;\">\n",
       "      <th></th>\n",
       "      <th>Model</th>\n",
       "      <th>Train Accuracy Score</th>\n",
       "      <th>Test Accuracy Score</th>\n",
       "      <th>Cross Validation Score</th>\n",
       "      <th>Max Features</th>\n",
       "      <th>Ngram Range</th>\n",
       "    </tr>\n",
       "  </thead>\n",
       "  <tbody>\n",
       "    <tr>\n",
       "      <th>3</th>\n",
       "      <td>tvec_nb</td>\n",
       "      <td>0.980667</td>\n",
       "      <td>0.760</td>\n",
       "      <td>0.706667</td>\n",
       "      <td>5000</td>\n",
       "      <td>(1, 1)</td>\n",
       "    </tr>\n",
       "    <tr>\n",
       "      <th>2</th>\n",
       "      <td>cvec_nb</td>\n",
       "      <td>0.962667</td>\n",
       "      <td>0.734</td>\n",
       "      <td>0.704000</td>\n",
       "      <td>4000</td>\n",
       "      <td>(1, 1)</td>\n",
       "    </tr>\n",
       "    <tr>\n",
       "      <th>4</th>\n",
       "      <td>cvec_rf</td>\n",
       "      <td>0.994667</td>\n",
       "      <td>0.734</td>\n",
       "      <td>0.687333</td>\n",
       "      <td>2000</td>\n",
       "      <td>(1, 3)</td>\n",
       "    </tr>\n",
       "    <tr>\n",
       "      <th>9</th>\n",
       "      <td>tvec_logreg</td>\n",
       "      <td>0.957333</td>\n",
       "      <td>0.734</td>\n",
       "      <td>0.701333</td>\n",
       "      <td>3000</td>\n",
       "      <td>(1, 1)</td>\n",
       "    </tr>\n",
       "    <tr>\n",
       "      <th>8</th>\n",
       "      <td>cvec_logreg</td>\n",
       "      <td>0.990667</td>\n",
       "      <td>0.724</td>\n",
       "      <td>0.698667</td>\n",
       "      <td>4000</td>\n",
       "      <td>(1, 1)</td>\n",
       "    </tr>\n",
       "    <tr>\n",
       "      <th>5</th>\n",
       "      <td>tvec_rf</td>\n",
       "      <td>0.994667</td>\n",
       "      <td>0.720</td>\n",
       "      <td>0.683333</td>\n",
       "      <td>2000</td>\n",
       "      <td>(1, 3)</td>\n",
       "    </tr>\n",
       "    <tr>\n",
       "      <th>7</th>\n",
       "      <td>tvec_svc</td>\n",
       "      <td>0.996667</td>\n",
       "      <td>0.704</td>\n",
       "      <td>0.689333</td>\n",
       "      <td>3000</td>\n",
       "      <td>(1, 1)</td>\n",
       "    </tr>\n",
       "    <tr>\n",
       "      <th>6</th>\n",
       "      <td>cvec_svc</td>\n",
       "      <td>0.998667</td>\n",
       "      <td>0.694</td>\n",
       "      <td>0.678000</td>\n",
       "      <td>3000</td>\n",
       "      <td>(1, 1)</td>\n",
       "    </tr>\n",
       "    <tr>\n",
       "      <th>0</th>\n",
       "      <td>cvec_baseline</td>\n",
       "      <td>0.500000</td>\n",
       "      <td>0.500</td>\n",
       "      <td>0.500000</td>\n",
       "      <td>1000</td>\n",
       "      <td>(1, 1)</td>\n",
       "    </tr>\n",
       "    <tr>\n",
       "      <th>1</th>\n",
       "      <td>tvec_baseline</td>\n",
       "      <td>0.500000</td>\n",
       "      <td>0.500</td>\n",
       "      <td>0.500000</td>\n",
       "      <td>1000</td>\n",
       "      <td>(1, 1)</td>\n",
       "    </tr>\n",
       "  </tbody>\n",
       "</table>\n",
       "</div>"
      ],
      "text/plain": [
       "           Model  Train Accuracy Score  Test Accuracy Score  \\\n",
       "3        tvec_nb              0.980667                0.760   \n",
       "2        cvec_nb              0.962667                0.734   \n",
       "4        cvec_rf              0.994667                0.734   \n",
       "9    tvec_logreg              0.957333                0.734   \n",
       "8    cvec_logreg              0.990667                0.724   \n",
       "5        tvec_rf              0.994667                0.720   \n",
       "7       tvec_svc              0.996667                0.704   \n",
       "6       cvec_svc              0.998667                0.694   \n",
       "0  cvec_baseline              0.500000                0.500   \n",
       "1  tvec_baseline              0.500000                0.500   \n",
       "\n",
       "   Cross Validation Score  Max Features Ngram Range  \n",
       "3                0.706667          5000      (1, 1)  \n",
       "2                0.704000          4000      (1, 1)  \n",
       "4                0.687333          2000      (1, 3)  \n",
       "9                0.701333          3000      (1, 1)  \n",
       "8                0.698667          4000      (1, 1)  \n",
       "5                0.683333          2000      (1, 3)  \n",
       "7                0.689333          3000      (1, 1)  \n",
       "6                0.678000          3000      (1, 1)  \n",
       "0                0.500000          1000      (1, 1)  \n",
       "1                0.500000          1000      (1, 1)  "
      ]
     },
     "execution_count": 19,
     "metadata": {},
     "output_type": "execute_result"
    }
   ],
   "source": [
    "results.sort_values(by=['Test Accuracy Score'], ascending = False)"
   ]
  },
  {
   "cell_type": "markdown",
   "id": "4f7f037d",
   "metadata": {},
   "source": [
    "**Insights**\n",
    "- Baseline models have scores of 50% which is reflective of the dataset having 50% posts from each subreddit.\n",
    "- Test Scores for all non-baseline models are very high, with all of them above 95%\n",
    "- Between Count Vectorizer and TFIDF Vectorizer, TFIDF performed better for all non-baseline models except for the Random Forest model\n",
    "- Except for the 2 Random Forest models, all other models performed the best with unigrams, i.e. Ngram Range = (1,1)\n",
    "\n",
    "**Model Selection**\n",
    "- As the dataset is balanced, i.e. split 50/50 between posts from The Onion and Not The Onion, Accuracy Score will be a good evaluation metric\n",
    "- Since Train Scores are very high for all non-baseline models, it will not be an important factor when determining the best performing model\n",
    "- Shortlist the 3 models with the highest accuracy scores and dive deeper into the results using the Confusion Matrix\n",
    "- As there are 3 models tied for 2nd place in terms of test score, to look at confusion matrix of top 4 models"
   ]
  },
  {
   "cell_type": "markdown",
   "id": "486dee37",
   "metadata": {},
   "source": [
    "## Confusion Matrix\n",
    "- Posts from The Onion are set as class 1 and posts from Not The Onion are set as class 0\n",
    "- In this case, class 1 will be used as \"positive\" and class 0 as \"negative\"\n",
    "\n",
    "There are 4 types of predictions:\n",
    "- True Positive: Model predicts that post is from The Onion and post is from The Onion (correct prediction)\n",
    "- True Negative: Model predicts that post is from Not The Onion and post is from Not The Onion (correct prediction)\n",
    "- False Positive: Model predicts that post is from The Onion but post is from Not The Onion (wrong prediction)\n",
    "- False Negative: Model predicts that post is from Not The Onion but post is from The Onion (wrong prediction)"
   ]
  },
  {
   "cell_type": "code",
   "execution_count": 20,
   "id": "d438a800",
   "metadata": {},
   "outputs": [
    {
     "data": {
      "text/plain": [
       "Text(0.5, 1.0, 'TFIDF Vectorizer into Multinomial Naive Bayes (tvec_nb)')"
      ]
     },
     "execution_count": 20,
     "metadata": {},
     "output_type": "execute_result"
    },
    {
     "data": {
      "image/png": "[encoded data removed]",
      "text/plain": [
       "<Figure size 432x288 with 2 Axes>"
      ]
     },
     "metadata": {
      "needs_background": "light"
     },
     "output_type": "display_data"
    }
   ],
   "source": [
    "tvec_nb_pred = tvec_nb_gs.predict(X_test)\n",
    "tvec_nb_cm = confusion_matrix(y_test, tvec_nb_pred)\n",
    "disp = ConfusionMatrixDisplay(confusion_matrix = tvec_nb_cm, display_labels = ['Not The Onion','The Onion'])\n",
    "disp.plot()\n",
    "tn, fp, fn, tp = confusion_matrix(y_test,tvec_nb_pred).ravel()\n",
    "tvec_nb_pred_list = ['tvec_nb', tn, fp, fn, tp]\n",
    "disp.ax_.set_title('TFIDF Vectorizer into Multinomial Naive Bayes (tvec_nb)')"
   ]
  },
  {
   "cell_type": "code",
   "execution_count": 21,
   "id": "aa9b93e8",
   "metadata": {},
   "outputs": [
    {
     "data": {
      "text/plain": [
       "Text(0.5, 1.0, 'Count Vectorizer into Multinomial Naive Bayes (cvec_nb)')"
      ]
     },
     "execution_count": 21,
     "metadata": {},
     "output_type": "execute_result"
    },
    {
     "data": {
      "image/png": "[encoded data removed]",
      "text/plain": [
       "<Figure size 432x288 with 2 Axes>"
      ]
     },
     "metadata": {
      "needs_background": "light"
     },
     "output_type": "display_data"
    }
   ],
   "source": [
    "cvec_nb_pred = cvec_nb_gs.predict(X_test)\n",
    "cvec_nb_cm = confusion_matrix(y_test, cvec_nb_pred)\n",
    "disp = ConfusionMatrixDisplay(confusion_matrix = cvec_nb_cm, display_labels = ['Not The Onion','The Onion'])\n",
    "disp.plot()\n",
    "tn, fp, fn, tp = confusion_matrix(y_test,cvec_nb_pred).ravel()\n",
    "cvec_nb_pred_list = ['cvec_nb', tn, fp, fn, tp]\n",
    "disp.ax_.set_title('Count Vectorizer into Multinomial Naive Bayes (cvec_nb)')"
   ]
  },
  {
   "cell_type": "code",
   "execution_count": 22,
   "id": "ffb62322",
   "metadata": {},
   "outputs": [
    {
     "data": {
      "text/plain": [
       "Text(0.5, 1.0, 'Count Vectorizer into Random Forest (cvec_rf)')"
      ]
     },
     "execution_count": 22,
     "metadata": {},
     "output_type": "execute_result"
    },
    {
     "data": {
      "image/png": "[encoded data removed]",
      "text/plain": [
       "<Figure size 432x288 with 2 Axes>"
      ]
     },
     "metadata": {
      "needs_background": "light"
     },
     "output_type": "display_data"
    }
   ],
   "source": [
    "cvec_rf_pred = cvec_rf_gs.predict(X_test)\n",
    "cvec_rf_cm = confusion_matrix(y_test, cvec_rf_pred)\n",
    "disp = ConfusionMatrixDisplay(confusion_matrix = cvec_rf_cm, display_labels = ['Not The Onion','The Onion'])\n",
    "disp.plot()\n",
    "tn, fp, fn, tp = confusion_matrix(y_test,cvec_rf_pred).ravel()\n",
    "cvec_rf_pred_list = ['cvec_rf', tn, fp, fn, tp]\n",
    "disp.ax_.set_title('Count Vectorizer into Random Forest (cvec_rf)')"
   ]
  },
  {
   "cell_type": "code",
   "execution_count": 23,
   "id": "80e0d149",
   "metadata": {},
   "outputs": [
    {
     "data": {
      "text/plain": [
       "Text(0.5, 1.0, 'TFIDF Vectorizer into Logistic Regression (tvec_logreg)')"
      ]
     },
     "execution_count": 23,
     "metadata": {},
     "output_type": "execute_result"
    },
    {
     "data": {
      "image/png": "[encoded data removed]",
      "text/plain": [
       "<Figure size 432x288 with 2 Axes>"
      ]
     },
     "metadata": {
      "needs_background": "light"
     },
     "output_type": "display_data"
    }
   ],
   "source": [
    "tvec_logreg_pred = tvec_logreg_gs.predict(X_test)\n",
    "tvec_logreg_cm = confusion_matrix(y_test, tvec_logreg_pred)\n",
    "disp = ConfusionMatrixDisplay(confusion_matrix = tvec_logreg_cm, display_labels = ['Not The Onion','The Onion'])\n",
    "disp.plot()\n",
    "tn, fp, fn, tp = confusion_matrix(y_test,tvec_logreg_pred).ravel()\n",
    "tvec_logreg_pred_list = ['tvec_logreg', tn, fp, fn, tp]\n",
    "disp.ax_.set_title('TFIDF Vectorizer into Logistic Regression (tvec_logreg)')"
   ]
  },
  {
   "cell_type": "code",
   "execution_count": 24,
   "id": "72460739",
   "metadata": {},
   "outputs": [
    {
     "data": {
      "text/html": [
       "<div>\n",
       "<style scoped>\n",
       "    .dataframe tbody tr th:only-of-type {\n",
       "        vertical-align: middle;\n",
       "    }\n",
       "\n",
       "    .dataframe tbody tr th {\n",
       "        vertical-align: top;\n",
       "    }\n",
       "\n",
       "    .dataframe thead th {\n",
       "        text-align: right;\n",
       "    }\n",
       "</style>\n",
       "<table border=\"1\" class=\"dataframe\">\n",
       "  <thead>\n",
       "    <tr style=\"text-align: right;\">\n",
       "      <th></th>\n",
       "      <th>Model</th>\n",
       "      <th>True Negative</th>\n",
       "      <th>False Positive</th>\n",
       "      <th>False Negative</th>\n",
       "      <th>True Positive</th>\n",
       "      <th>Total Positive Predictions</th>\n",
       "      <th>Total Negative Predictions</th>\n",
       "      <th>Test Accuracy Score</th>\n",
       "      <th>Recall</th>\n",
       "      <th>Specificity</th>\n",
       "      <th>Precision</th>\n",
       "      <th>Negative Predictive Value</th>\n",
       "    </tr>\n",
       "  </thead>\n",
       "  <tbody>\n",
       "    <tr>\n",
       "      <th>0</th>\n",
       "      <td>tvec_nb</td>\n",
       "      <td>206</td>\n",
       "      <td>44</td>\n",
       "      <td>76</td>\n",
       "      <td>174</td>\n",
       "      <td>218</td>\n",
       "      <td>282</td>\n",
       "      <td>0.760</td>\n",
       "      <td>0.696</td>\n",
       "      <td>0.824</td>\n",
       "      <td>0.798165</td>\n",
       "      <td>0.730496</td>\n",
       "    </tr>\n",
       "    <tr>\n",
       "      <th>1</th>\n",
       "      <td>cvec_nb</td>\n",
       "      <td>195</td>\n",
       "      <td>55</td>\n",
       "      <td>78</td>\n",
       "      <td>172</td>\n",
       "      <td>227</td>\n",
       "      <td>273</td>\n",
       "      <td>0.734</td>\n",
       "      <td>0.688</td>\n",
       "      <td>0.780</td>\n",
       "      <td>0.757709</td>\n",
       "      <td>0.714286</td>\n",
       "    </tr>\n",
       "    <tr>\n",
       "      <th>2</th>\n",
       "      <td>cvec_rf</td>\n",
       "      <td>169</td>\n",
       "      <td>81</td>\n",
       "      <td>52</td>\n",
       "      <td>198</td>\n",
       "      <td>279</td>\n",
       "      <td>221</td>\n",
       "      <td>0.734</td>\n",
       "      <td>0.792</td>\n",
       "      <td>0.676</td>\n",
       "      <td>0.709677</td>\n",
       "      <td>0.764706</td>\n",
       "    </tr>\n",
       "    <tr>\n",
       "      <th>3</th>\n",
       "      <td>tvec_logreg</td>\n",
       "      <td>189</td>\n",
       "      <td>61</td>\n",
       "      <td>72</td>\n",
       "      <td>178</td>\n",
       "      <td>239</td>\n",
       "      <td>261</td>\n",
       "      <td>0.734</td>\n",
       "      <td>0.712</td>\n",
       "      <td>0.756</td>\n",
       "      <td>0.744770</td>\n",
       "      <td>0.724138</td>\n",
       "    </tr>\n",
       "  </tbody>\n",
       "</table>\n",
       "</div>"
      ],
      "text/plain": [
       "         Model  True Negative  False Positive  False Negative  True Positive  \\\n",
       "0      tvec_nb            206              44              76            174   \n",
       "1      cvec_nb            195              55              78            172   \n",
       "2      cvec_rf            169              81              52            198   \n",
       "3  tvec_logreg            189              61              72            178   \n",
       "\n",
       "   Total Positive Predictions  Total Negative Predictions  \\\n",
       "0                         218                         282   \n",
       "1                         227                         273   \n",
       "2                         279                         221   \n",
       "3                         239                         261   \n",
       "\n",
       "   Test Accuracy Score  Recall  Specificity  Precision  \\\n",
       "0                0.760   0.696        0.824   0.798165   \n",
       "1                0.734   0.688        0.780   0.757709   \n",
       "2                0.734   0.792        0.676   0.709677   \n",
       "3                0.734   0.712        0.756   0.744770   \n",
       "\n",
       "   Negative Predictive Value  \n",
       "0                   0.730496  \n",
       "1                   0.714286  \n",
       "2                   0.764706  \n",
       "3                   0.724138  "
      ]
     },
     "execution_count": 24,
     "metadata": {},
     "output_type": "execute_result"
    }
   ],
   "source": [
    "confusion_matrix_results = [tvec_nb_pred_list, cvec_nb_pred_list, cvec_rf_pred_list, tvec_logreg_pred_list]\n",
    "confusion_matrix_df = pd.DataFrame(confusion_matrix_results, columns = ['Model','True Negative','False Positive','False Negative','True Positive'])\n",
    "confusion_matrix_df['Total Positive Predictions'] = confusion_matrix_df['True Positive'] + confusion_matrix_df['False Positive']\n",
    "confusion_matrix_df['Total Negative Predictions'] = confusion_matrix_df['True Negative'] + confusion_matrix_df['False Negative']\n",
    "confusion_matrix_df['Test Accuracy Score'] = (confusion_matrix_df['True Negative'] + confusion_matrix_df['True Positive'])/(confusion_matrix_df['False Negative'] + confusion_matrix_df['False Positive'] + confusion_matrix_df['True Negative'] + confusion_matrix_df['True Positive'])\n",
    "confusion_matrix_df['Recall'] = confusion_matrix_df['True Positive']/(confusion_matrix_df['False Negative'] + confusion_matrix_df['True Positive'])\n",
    "confusion_matrix_df['Specificity'] = confusion_matrix_df['True Negative']/(confusion_matrix_df['False Positive'] + confusion_matrix_df['True Negative'])\n",
    "confusion_matrix_df['Precision'] = confusion_matrix_df['True Positive']/(confusion_matrix_df['False Positive'] + confusion_matrix_df['True Positive'])\n",
    "confusion_matrix_df['Negative Predictive Value'] = confusion_matrix_df['True Negative']/(confusion_matrix_df['False Negative'] + confusion_matrix_df['True Negative'])\n",
    "confusion_matrix_df"
   ]
  },
  {
   "cell_type": "markdown",
   "id": "9c13e6d3",
   "metadata": {},
   "source": [
    "**Interpreting the scores:**\n",
    "- Accuracy Score: Out of all posts, how many % of the model's predictions were correct?\n",
    "- Recall Score: Out of all the The Onion posts, how many % of the model's The Onion predictions were correct?\n",
    "- Specificity Score: Out of all the Not The Onion posts, how many % of the model's Not The Onion predictions were correct?\n",
    "- Precision Score: Out of all the The Onion predictions, how many % were correct?\n",
    "- Negative Predictive Value: Out of all the Not The Onion predictions, how many % were correct?\n",
    "\n",
    "**Insights:**\n",
    "- The model with the highest Test Accuracy Score is tvec_nb\n",
    "- Even though there are 3 models with the same Accuracy Score, their scores in the other categories are not the same\n",
    "- cvec_rf has the highest Recall score, getting 79.2% of all The Onion posts correct. However, this is achieved by a disproportionate number of The Onion predictions (279 out of 500) and the lowest Precision score at 71%. In other words, cvec_rf predicted a high number of posts as The Onion and even though it got the highest number of The Onion predictions correct, the Accuracy Score for each The Onion prediction is low.\n",
    "- tvec_nb did the same, but for Not The Onion posts. It has the highest Specificity score, getting 82.4% of all the Not The Onion posts correct. This was also achieved by a disproportionate number of Not The Onion predictions (282 out of 500). However, its Negative Predictive Value is actually the second highest at 73%. This contributes to explaining why this model has the highest Test Accuracy Score.\n",
    "\n",
    "**Choosing the best model:**\n",
    "- As the data science team of Reddit, we should be impartial towards moderators of each subreddit.\n",
    "- To be fair to the subreddits, we want to pick a model that is ideally equally accurate at predicting for either subreddit\n",
    "- Given that this is the 1st iteration of the automoderator, the human moderators probably do not expect the predictions to be perfect, so we want to pick the model with the more balanced predictions (i.e. ratio of total negative predictions to total positive predictions to be close to 1.0, \"Ratio of predictions\" in table below)\n",
    "- The aim of the automoderator is to classify posts correctly so the human moderators can get more work taken off them. Conversely, predicting a post wrongly will result in more work for the human moderators and we want to spread this evenly across the 2 subreddits (i.e. ratio of false negatives to false positives to be close to 1.0, \"Ratio of false predictions\" in table below)\n"
   ]
  },
  {
   "cell_type": "code",
   "execution_count": 25,
   "id": "523868da",
   "metadata": {},
   "outputs": [
    {
     "data": {
      "text/html": [
       "<div>\n",
       "<style scoped>\n",
       "    .dataframe tbody tr th:only-of-type {\n",
       "        vertical-align: middle;\n",
       "    }\n",
       "\n",
       "    .dataframe tbody tr th {\n",
       "        vertical-align: top;\n",
       "    }\n",
       "\n",
       "    .dataframe thead th {\n",
       "        text-align: right;\n",
       "    }\n",
       "</style>\n",
       "<table border=\"1\" class=\"dataframe\">\n",
       "  <thead>\n",
       "    <tr style=\"text-align: right;\">\n",
       "      <th></th>\n",
       "      <th>Model</th>\n",
       "      <th>True Negative</th>\n",
       "      <th>False Positive</th>\n",
       "      <th>False Negative</th>\n",
       "      <th>True Positive</th>\n",
       "      <th>Total Positive Predictions</th>\n",
       "      <th>Total Negative Predictions</th>\n",
       "      <th>Test Accuracy Score</th>\n",
       "      <th>Recall</th>\n",
       "      <th>Specificity</th>\n",
       "      <th>Precision</th>\n",
       "      <th>Negative Predictive Value</th>\n",
       "      <th>Ratio of predictions</th>\n",
       "      <th>Ratio of false predictions</th>\n",
       "    </tr>\n",
       "  </thead>\n",
       "  <tbody>\n",
       "    <tr>\n",
       "      <th>0</th>\n",
       "      <td>tvec_nb</td>\n",
       "      <td>206</td>\n",
       "      <td>44</td>\n",
       "      <td>76</td>\n",
       "      <td>174</td>\n",
       "      <td>218</td>\n",
       "      <td>282</td>\n",
       "      <td>0.760</td>\n",
       "      <td>0.696</td>\n",
       "      <td>0.824</td>\n",
       "      <td>0.798165</td>\n",
       "      <td>0.730496</td>\n",
       "      <td>1.293578</td>\n",
       "      <td>1.727273</td>\n",
       "    </tr>\n",
       "    <tr>\n",
       "      <th>1</th>\n",
       "      <td>cvec_nb</td>\n",
       "      <td>195</td>\n",
       "      <td>55</td>\n",
       "      <td>78</td>\n",
       "      <td>172</td>\n",
       "      <td>227</td>\n",
       "      <td>273</td>\n",
       "      <td>0.734</td>\n",
       "      <td>0.688</td>\n",
       "      <td>0.780</td>\n",
       "      <td>0.757709</td>\n",
       "      <td>0.714286</td>\n",
       "      <td>1.202643</td>\n",
       "      <td>1.418182</td>\n",
       "    </tr>\n",
       "    <tr>\n",
       "      <th>2</th>\n",
       "      <td>cvec_rf</td>\n",
       "      <td>169</td>\n",
       "      <td>81</td>\n",
       "      <td>52</td>\n",
       "      <td>198</td>\n",
       "      <td>279</td>\n",
       "      <td>221</td>\n",
       "      <td>0.734</td>\n",
       "      <td>0.792</td>\n",
       "      <td>0.676</td>\n",
       "      <td>0.709677</td>\n",
       "      <td>0.764706</td>\n",
       "      <td>0.792115</td>\n",
       "      <td>0.641975</td>\n",
       "    </tr>\n",
       "    <tr>\n",
       "      <th>3</th>\n",
       "      <td>tvec_logreg</td>\n",
       "      <td>189</td>\n",
       "      <td>61</td>\n",
       "      <td>72</td>\n",
       "      <td>178</td>\n",
       "      <td>239</td>\n",
       "      <td>261</td>\n",
       "      <td>0.734</td>\n",
       "      <td>0.712</td>\n",
       "      <td>0.756</td>\n",
       "      <td>0.744770</td>\n",
       "      <td>0.724138</td>\n",
       "      <td>1.092050</td>\n",
       "      <td>1.180328</td>\n",
       "    </tr>\n",
       "  </tbody>\n",
       "</table>\n",
       "</div>"
      ],
      "text/plain": [
       "         Model  True Negative  False Positive  False Negative  True Positive  \\\n",
       "0      tvec_nb            206              44              76            174   \n",
       "1      cvec_nb            195              55              78            172   \n",
       "2      cvec_rf            169              81              52            198   \n",
       "3  tvec_logreg            189              61              72            178   \n",
       "\n",
       "   Total Positive Predictions  Total Negative Predictions  \\\n",
       "0                         218                         282   \n",
       "1                         227                         273   \n",
       "2                         279                         221   \n",
       "3                         239                         261   \n",
       "\n",
       "   Test Accuracy Score  Recall  Specificity  Precision  \\\n",
       "0                0.760   0.696        0.824   0.798165   \n",
       "1                0.734   0.688        0.780   0.757709   \n",
       "2                0.734   0.792        0.676   0.709677   \n",
       "3                0.734   0.712        0.756   0.744770   \n",
       "\n",
       "   Negative Predictive Value  Ratio of predictions  Ratio of false predictions  \n",
       "0                   0.730496              1.293578                    1.727273  \n",
       "1                   0.714286              1.202643                    1.418182  \n",
       "2                   0.764706              0.792115                    0.641975  \n",
       "3                   0.724138              1.092050                    1.180328  "
      ]
     },
     "execution_count": 25,
     "metadata": {},
     "output_type": "execute_result"
    }
   ],
   "source": [
    "confusion_matrix_df['Ratio of predictions'] = confusion_matrix_df['Total Negative Predictions']/confusion_matrix_df['Total Positive Predictions']\n",
    "confusion_matrix_df['Ratio of false predictions'] = confusion_matrix_df['False Negative']/confusion_matrix_df['False Positive']\n",
    "confusion_matrix_df"
   ]
  },
  {
   "cell_type": "markdown",
   "id": "4a8b5f9b",
   "metadata": {},
   "source": [
    "**Most balanced model:**\n",
    "- tvec_logreg is selected as the most balanced model as it has the closest ratios to the ideal 1.0\n",
    "\n",
    "**Additional Advantage:**\n",
    "- A Logistic Regression model is not a blackbox model so we are able to look at the high impact words that affect the classification"
   ]
  },
  {
   "cell_type": "code",
   "execution_count": 26,
   "id": "463bbb32",
   "metadata": {},
   "outputs": [
    {
     "data": {
      "text/plain": [
       "{'tvec__max_features': 3000, 'tvec__ngram_range': (1, 1)}"
      ]
     },
     "execution_count": 26,
     "metadata": {},
     "output_type": "execute_result"
    }
   ],
   "source": [
    "tvec_logreg_gs.best_params_"
   ]
  },
  {
   "cell_type": "code",
   "execution_count": 27,
   "id": "158e6138",
   "metadata": {},
   "outputs": [
    {
     "data": {
      "text/html": [
       "<div>\n",
       "<style scoped>\n",
       "    .dataframe tbody tr th:only-of-type {\n",
       "        vertical-align: middle;\n",
       "    }\n",
       "\n",
       "    .dataframe tbody tr th {\n",
       "        vertical-align: top;\n",
       "    }\n",
       "\n",
       "    .dataframe thead th {\n",
       "        text-align: right;\n",
       "    }\n",
       "</style>\n",
       "<table border=\"1\" class=\"dataframe\">\n",
       "  <thead>\n",
       "    <tr style=\"text-align: right;\">\n",
       "      <th></th>\n",
       "      <th>word</th>\n",
       "      <th>coefficient</th>\n",
       "    </tr>\n",
       "  </thead>\n",
       "  <tbody>\n",
       "    <tr>\n",
       "      <th>1571</th>\n",
       "      <td>nation</td>\n",
       "      <td>1.904330</td>\n",
       "    </tr>\n",
       "    <tr>\n",
       "      <th>1071</th>\n",
       "      <td>god</td>\n",
       "      <td>1.702955</td>\n",
       "    </tr>\n",
       "    <tr>\n",
       "      <th>1644</th>\n",
       "      <td>onion</td>\n",
       "      <td>1.638241</td>\n",
       "    </tr>\n",
       "    <tr>\n",
       "      <th>173</th>\n",
       "      <td>announces</td>\n",
       "      <td>1.636080</td>\n",
       "    </tr>\n",
       "    <tr>\n",
       "      <th>2545</th>\n",
       "      <td>thing</td>\n",
       "      <td>1.475229</td>\n",
       "    </tr>\n",
       "    <tr>\n",
       "      <th>...</th>\n",
       "      <td>...</td>\n",
       "      <td>...</td>\n",
       "    </tr>\n",
       "    <tr>\n",
       "      <th>2228</th>\n",
       "      <td>say</td>\n",
       "      <td>-1.172796</td>\n",
       "    </tr>\n",
       "    <tr>\n",
       "      <th>2425</th>\n",
       "      <td>stolen</td>\n",
       "      <td>-1.173453</td>\n",
       "    </tr>\n",
       "    <tr>\n",
       "      <th>1806</th>\n",
       "      <td>police</td>\n",
       "      <td>-1.460564</td>\n",
       "    </tr>\n",
       "    <tr>\n",
       "      <th>209</th>\n",
       "      <td>arrested</td>\n",
       "      <td>-1.465792</td>\n",
       "    </tr>\n",
       "    <tr>\n",
       "      <th>502</th>\n",
       "      <td>christmas</td>\n",
       "      <td>-2.022193</td>\n",
       "    </tr>\n",
       "  </tbody>\n",
       "</table>\n",
       "<p>3000 rows × 2 columns</p>\n",
       "</div>"
      ],
      "text/plain": [
       "           word  coefficient\n",
       "1571     nation     1.904330\n",
       "1071        god     1.702955\n",
       "1644      onion     1.638241\n",
       "173   announces     1.636080\n",
       "2545      thing     1.475229\n",
       "...         ...          ...\n",
       "2228        say    -1.172796\n",
       "2425     stolen    -1.173453\n",
       "1806     police    -1.460564\n",
       "209    arrested    -1.465792\n",
       "502   christmas    -2.022193\n",
       "\n",
       "[3000 rows x 2 columns]"
      ]
     },
     "execution_count": 27,
     "metadata": {},
     "output_type": "execute_result"
    }
   ],
   "source": [
    "#Unable to extract coefficients from gridsearch so refit the model manually\n",
    "tvec = TfidfVectorizer(max_features=3000, ngram_range =(1,1))\n",
    "X_tvec = tvec.fit_transform(X)\n",
    "X_train_tvec, X_test_tvec, y_train, y_test = train_test_split(X_tvec, y, stratify = y, random_state=42)\n",
    "logreg = LogisticRegression(random_state=42)\n",
    "logreg.fit(X_train_tvec, y_train)\n",
    "\n",
    "#create a dataframe consisting of the words and their respective coefficient, then sort them in descending order\n",
    "logreg_coef = np.array(logreg.coef_).tolist()\n",
    "logreg_coef = logreg_coef[0]\n",
    "logreg_coef = pd.DataFrame(zip(tvec.get_feature_names(),logreg_coef), columns = ['word','coefficient']).sort_values(by = 'coefficient', ascending = False)\n",
    "logreg_coef"
   ]
  },
  {
   "cell_type": "code",
   "execution_count": 28,
   "id": "619fa7f5",
   "metadata": {},
   "outputs": [
    {
     "data": {
      "text/plain": [
       "Text(0.5, 1.0, 'Most Impactful Words')"
      ]
     },
     "execution_count": 28,
     "metadata": {},
     "output_type": "execute_result"
    },
    {
     "data": {
      "image/png": "[encoded data removed]",
      "text/plain": [
       "<Figure size 1440x720 with 1 Axes>"
      ]
     },
     "metadata": {
      "needs_background": "light"
     },
     "output_type": "display_data"
    }
   ],
   "source": [
    "#The words with the most positive coefficients are the most impactful for classifying a post into The Onion. Similarly for negative coefficients and Not The Onion\n",
    "#Only extract the top 10 most positive and top 10 most negative\n",
    "theonion_coef = logreg_coef.head(10)\n",
    "nottheonion_coef = logreg_coef.tail(10)\n",
    "coef_combined = pd.concat([theonion_coef, nottheonion_coef], axis=0)\n",
    "\n",
    "#plot a bar plot\n",
    "plt.figure(figsize = (20,10))\n",
    "ax = sns.barplot(x = 'coefficient', y= 'word', \n",
    "data=coef_combined)\n",
    "plt.title('Most Impactful Words',{'fontsize':30})"
   ]
  },
  {
   "cell_type": "markdown",
   "id": "79ed4ee0",
   "metadata": {},
   "source": [
    "**Observation:**\n",
    "- The words with positive coefficients are the 10 most impactful in classifying a post into The Onion\n",
    "- Impactful words for The Onion: nation, god, onion, announces, thing, self, never, american, know, big\n",
    "- Conversely, words with negative coefficients are the 10 most impactful in classying a post into Not The Onion\n",
    "- Impactful words for Not The Onion: death, santa, covid, tesla, squirrel, say, stolen, police, arrested, christmas"
   ]
  },
  {
   "cell_type": "markdown",
   "id": "45361d98",
   "metadata": {},
   "source": [
    "----\n",
    "## Conclusion and Recommendations\n",
    "\n",
    "**Best model for our requirements:**\n",
    "- tvec_logreg is selected as the best model based on our evaluation metrics\n",
    "- Even though it only has the second highest Test Accuracy Score, we are sacrificing a little bit of that to ensure more balanced predictions \n",
    "- The reduction of workload for human moderators in both subreddits will be more balanced and this will reflect well on us as we are being impartial \n",
    "- Additionally, a Logistic Regression model is not a blackbox model. Hence, we are able to identify high impact words that affect the classification\n",
    "\n",
    "**Limitations:**\n",
    "- The model is trained using posts from just before 1st January 2022, hence it may be skewed towards news topics that were popular during that time\n",
    "- The model will not be able to account for changes in posting behavior should subreddit rules change drastically after 1st January 2022\n",
    "\n",
    "**Future Improvements:**\n",
    "- Scrape a larger number of posts to train the model\n",
    "- In addition to just the title text, include other metadata from Reddit to train the model (e.g. author posting behavior, number of comments etc.)"
   ]
  },
  {
   "cell_type": "code",
   "execution_count": null,
   "id": "19bc97fd",
   "metadata": {},
   "outputs": [],
   "source": []
  }
 ],
 "metadata": {
  "kernelspec": {
   "display_name": "Python 3",
   "language": "python",
   "name": "python3"
  },
  "language_info": {
   "codemirror_mode": {
    "name": "ipython",
    "version": 3
   },
   "file_extension": ".py",
   "mimetype": "text/x-python",
   "name": "python",
   "nbconvert_exporter": "python",
   "pygments_lexer": "ipython3",
   "version": "3.8.8"
  }
 },
 "nbformat": 4,
 "nbformat_minor": 5
}
